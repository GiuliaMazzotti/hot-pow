{
 "cells": [
  {
   "cell_type": "markdown",
   "metadata": {
    "jupyter": {
     "outputs_hidden": true
    }
   },
   "source": [
    "# Hot-Pow\n",
    "### Investigating SnowEx Temperature Observations at Grand Mesa, Colorado, Winter 2019-2020"
   ]
  },
  {
   "cell_type": "markdown",
   "metadata": {},
   "source": [
    "#### Learning objectives\n",
    "* **Data Wrangling**\n",
    "    * How can we pull in new external data sources and format these for use\n",
    "* **Data Visualization**\n",
    "    * Timeseries plotting with matplotlib and other interactive plotters (e.g., Holoviz)\n",
    "* **Advanced Geospatial Visualization**\n",
    "    * GIS style and multi-dimensional plotting\n",
    "* **Exploring Science Questions using Thermal Data**\n",
    "    * *Add more here which gets echoed under summary* \n",
    "    * How does SnowEx data (especially temperatures) compare to the ERA5 reanalysis product? \n",
    "    * How do near surface temperatures taken at snow puts compare to other thermal datasets? and more..."
   ]
  },
  {
   "cell_type": "code",
   "execution_count": 1,
   "metadata": {},
   "outputs": [],
   "source": [
    "# add flowchart for going from in-situ to airborne to model data"
   ]
  },
  {
   "cell_type": "markdown",
   "metadata": {},
   "source": [
    "## Grand Mesa, Colorado, Winter 2019-2020\n",
    "![foo](images/grand_mesa_snotel.png)"
   ]
  },
  {
   "cell_type": "markdown",
   "metadata": {},
   "source": [
    "## Snow pit temperature data\n",
    "*Add brief description....*    "
   ]
  },
  {
   "cell_type": "code",
   "execution_count": 2,
   "metadata": {},
   "outputs": [],
   "source": [
    "# add map of snowpit distribution-- from Dillon?"
   ]
  },
  {
   "cell_type": "markdown",
   "metadata": {},
   "source": [
    "### Data wrangling\n",
    "\n",
    "We considered:\n",
    "\n",
    "* Grand Mesa IOP snow pit temperature data\n",
    "* Grand Mesa Time Series snow pit temperature data\n",
    "* COVID quarantine extended snow pit temperature data (which will be available with SnowEx data following QA/QC)\n",
    "\n",
    "Our hackweek exploration (as Python/Jupyter/Git newbies): can we collect, transform, and integrate these data such that we can look at a timeline of snow temperatures on the Mesa from a winter snowpack, through warming and ripening?\n"
   ]
  },
  {
   "cell_type": "code",
   "execution_count": 3,
   "metadata": {},
   "outputs": [],
   "source": [
    "# show some screenshots of our data wrangling here"
   ]
  },
  {
   "cell_type": "markdown",
   "metadata": {},
   "source": [
    "### Visualization"
   ]
  },
  {
   "cell_type": "code",
   "execution_count": 4,
   "metadata": {},
   "outputs": [],
   "source": [
    " # this could be a great opportunity to look at some of Aji's work"
   ]
  },
  {
   "cell_type": "markdown",
   "metadata": {},
   "source": [
    "#### Takeaways"
   ]
  },
  {
   "cell_type": "markdown",
   "metadata": {},
   "source": [
    "* Integrating data from different sources poses different challenges\n",
    "    * Reorienting and matching data frames took some troubleshooting\n",
    "    * Pandas, Geopandas, and Holoviz\n",
    "* A season-long integration of snow pit data can be useful to compare with other observations of snow temperatures"
   ]
  },
  {
   "cell_type": "markdown",
   "metadata": {},
   "source": [
    "## Thermal IR\n",
    "*Add brief description....*  "
   ]
  },
  {
   "cell_type": "markdown",
   "metadata": {},
   "source": [
    "### Data wrangling\n",
    "*Add description of where the data came from and what needed to be done to get it analysis ready.*   \n",
    "*Feel free to just load the preprocessed file from disk, instead of going through all the preprocessing steps.*"
   ]
  },
  {
   "cell_type": "code",
   "execution_count": null,
   "metadata": {},
   "outputs": [],
   "source": []
  },
  {
   "cell_type": "markdown",
   "metadata": {},
   "source": [
    "### Visualization"
   ]
  },
  {
   "cell_type": "code",
   "execution_count": null,
   "metadata": {},
   "outputs": [],
   "source": []
  },
  {
   "cell_type": "markdown",
   "metadata": {},
   "source": [
    "### Takeaways"
   ]
  },
  {
   "cell_type": "code",
   "execution_count": null,
   "metadata": {},
   "outputs": [],
   "source": []
  },
  {
   "cell_type": "markdown",
   "metadata": {},
   "source": [
    "## ERA5 vs. SNOTEL vs. SnowEx Temperature comparison\n",
    "\n",
    "### How does modeled ERA5 climate data compare to SNOTEL and SnowEx measurements?   \n",
    "\n",
    "Location: Grand Mesa   \n",
    "Bounds: 39.2, -108.4, 38.8, -107.7   \n",
    "Time range: February 2020   \n",
    "#### Some ERA5 ariables of interest:\n",
    "\n",
    "- 2m_temperature\n",
    "- snow_albedo\n",
    "- snow_density\n",
    "- snow_depth\n",
    "- snow_depth_water_equivalent\n",
    "- temperature_of_snow_layer\n",
    "- total_precipitation   \n",
    "\n",
    "\n",
    "In this example we will pull in the [ERA5-Land hourly data from 1981 to present](https://cds.climate.copernicus.eu/cdsapp#!/dataset/reanalysis-era5-land?tab=form)  \n",
    "\n",
    "<p align=\"center\">\n",
    "<img src=\"https://datastore.copernicus-climate.eu/c3s/published-forms/c3sprod/reanalysis-era5-land/overview.png\" width=300>   \n",
    "</p>\n",
    "\n",
    "| DATA DESCRIPTION  |  |\n",
    "| ------------- | ------------- |\n",
    "| **Data type**  | Gridded |\n",
    "| **Projection**  | Regular latitude-longitude grid |\n",
    "| **Horizontal coverage**  | Global |\n",
    "| **Horizontal resolution**  | 0.1° x 0.1°; Native resolution is 9 km. |\n",
    "| **Vertical coverage**  | From 2 m above the surface level, to a soil depth of 289 cm. |\n",
    "| **Vertical resolution**  | 4 levels of the ECMWF surface model: Layer 1: 0 -7cm, Layer 2: 7 -28cm, Layer 3: 28-100cm, Layer 4: 100-289cm Some parameters are defined at 2 m over the surface. |\n",
    "| **Temporal coverage**  | January 1981 to present |\n",
    "| **Temporal resolution**  | Hourly |\n",
    "| **File format**  | GRIB / NetCDF |\n",
    "| **Update frequency**  | Monthly with a delay of about three months relatively to actual date. |    \n",
    "\n",
    " \n",
    "Additional products and documentation can be found here:   \n",
    "[ERA5-Land: documentation](https://confluence.ecmwf.int/display/CKB/ERA5-Land%3A+data+documentation)      \n",
    "[ERA5-Land monthly averaged data from 1981 to present](https://cds.climate.copernicus.eu/cdsapp#!/dataset/reanalysis-era5-land-monthly-means?tab=form)     \n",
    "[ERA5 monthly averaged data on pressure levels from 1950 to 1978 (preliminary version)](https://cds.climate.copernicus.eu/cdsapp#!/dataset/reanalysis-era5-pressure-levels-monthly-means-preliminary-back-extension?tab=overview)    \n",
    "[ERA5 hourly data on pressure levels from 1950 to 1978 (preliminary version)](https://cds.climate.copernicus.eu/cdsapp#!/dataset/reanalysis-era5-pressure-levels-preliminary-back-extension?tab=overview)    \n"
   ]
  },
  {
   "cell_type": "markdown",
   "metadata": {},
   "source": [
    "### Data wrangling\n",
    "Detailed data wrangling steps are outlined in [this notebook](https://github.com/snowex-hackweek/hot-pow/blob/main/contributors/Friedrich_Knuth/ERA5_temperature_comparison.ipynb), including:  \n",
    "- Pull in data from ERA5 API\n",
    "- Explore metadata and unit conversion\n",
    "- Quickplots to inspect results\n",
    "\n",
    "#### Example API request"
   ]
  },
  {
   "cell_type": "code",
   "execution_count": 5,
   "metadata": {},
   "outputs": [],
   "source": [
    "# c.retrieve(\n",
    "#     'reanalysis-era5-land',\n",
    "#     {\n",
    "#         'format': 'netcdf',\n",
    "#         'variable': [\n",
    "#             '2m_temperature', 'snow_albedo', 'snow_density',\n",
    "#             'snow_depth', 'snow_depth_water_equivalent', 'temperature_of_snow_layer',\n",
    "#             'total_precipitation',\n",
    "#         ],\n",
    "#         'year': '2020',\n",
    "#         'month': [\n",
    "#             '01', '02', '03',\n",
    "#         ],\n",
    "#         'day': [\n",
    "#             '01', '02', '03',\n",
    "#             '04', '05', '06',\n",
    "#             '07', '08', '09',\n",
    "#             '10', '11', '12',\n",
    "#             '13', '14', '15',\n",
    "#             '16', '17', '18',\n",
    "#             '19', '20', '21',\n",
    "#             '22', '23', '24',\n",
    "#             '25', '26', '27',\n",
    "#             '28', '29', '30',\n",
    "#             '31',\n",
    "#         ],\n",
    "#         'time': [\n",
    "#             '00:00', '01:00', '02:00',\n",
    "#             '03:00', '04:00', '05:00',\n",
    "#             '06:00', '07:00', '08:00',\n",
    "#             '09:00', '10:00', '11:00',\n",
    "#             '12:00', '13:00', '14:00',\n",
    "#             '15:00', '16:00', '17:00',\n",
    "#             '18:00', '19:00', '20:00',\n",
    "#             '21:00', '22:00', '23:00',\n",
    "#         ],\n",
    "#         'area': [\n",
    "#             39.2, -108.4, 38.8,\n",
    "#             -107.7,\n",
    "#         ],\n",
    "#     },\n",
    "#     'data/era5_2020-02-01_2020-02-29.nc')"
   ]
  },
  {
   "cell_type": "markdown",
   "metadata": {},
   "source": [
    "### Visualization"
   ]
  },
  {
   "cell_type": "markdown",
   "metadata": {},
   "source": [
    "![foo](images/era5_snotal_compare.jpeg)"
   ]
  },
  {
   "cell_type": "markdown",
   "metadata": {},
   "source": [
    "### Takeaways"
   ]
  },
  {
   "cell_type": "code",
   "execution_count": null,
   "metadata": {},
   "outputs": [],
   "source": []
  },
  {
   "cell_type": "markdown",
   "metadata": {},
   "source": [
    "## Conopy shadows and impact on snow surface temperature\n",
    "*Add brief description....*  "
   ]
  },
  {
   "cell_type": "markdown",
   "metadata": {},
   "source": [
    "### Data wrangling\n",
    "*Add description of where the data came from and what needed to be done to get it analysis ready.*   \n",
    "*Feel free to just load the preprocessed file from disk, instead of going through all the preprocessing steps.*"
   ]
  },
  {
   "cell_type": "code",
   "execution_count": null,
   "metadata": {},
   "outputs": [],
   "source": []
  },
  {
   "cell_type": "markdown",
   "metadata": {},
   "source": [
    "### Visualization"
   ]
  },
  {
   "cell_type": "code",
   "execution_count": null,
   "metadata": {},
   "outputs": [],
   "source": []
  },
  {
   "cell_type": "markdown",
   "metadata": {},
   "source": [
    "### Takeaways"
   ]
  },
  {
   "cell_type": "code",
   "execution_count": null,
   "metadata": {},
   "outputs": [],
   "source": []
  },
  {
   "cell_type": "markdown",
   "metadata": {},
   "source": [
    "## Summary\n",
    "*Summary and takeaways*"
   ]
  },
  {
   "cell_type": "code",
   "execution_count": null,
   "metadata": {},
   "outputs": [],
   "source": []
  }
 ],
 "metadata": {
  "kernelspec": {
   "display_name": "Python 3",
   "language": "python",
   "name": "python3"
  },
  "language_info": {
   "codemirror_mode": {
    "name": "ipython",
    "version": 3
   },
   "file_extension": ".py",
   "mimetype": "text/x-python",
   "name": "python",
   "nbconvert_exporter": "python",
   "pygments_lexer": "ipython3",
   "version": "3.8.8"
  }
 },
 "nbformat": 4,
 "nbformat_minor": 4
}
