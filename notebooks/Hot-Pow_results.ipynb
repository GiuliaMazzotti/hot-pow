{
 "cells": [
  {
   "cell_type": "markdown",
   "metadata": {
    "jupyter": {
     "outputs_hidden": true
    }
   },
   "source": [
    "# Hot-Pow\n",
    "### Investigating SnowEx Temperature Observations at Grand Mesa, Colorado, Winter 2019-2020"
   ]
  },
  {
   "cell_type": "markdown",
   "metadata": {},
   "source": [
    "#### Learning objectives\n",
    "* **Data Wrangling**\n",
    "    * How can we pull in new external data sources and format these for use\n",
    "* **Data Visualization**\n",
    "    * Timeseries plotting with matplotlib and other interactive plotters (e.g., Holoviz)\n",
    "* **Advanced Geospatial Visualization**\n",
    "    * GIS style and multi-dimensional plotting\n",
    "* **Exploring Science Questions using Thermal Data**\n",
    "    * *Add more here which gets echoed under summary* \n",
    "    * How does SnowEx data (especially temperatures) compare to the ERA5 reanalysis product? \n",
    "    * How do near surface temperatures taken at snow puts compare to other thermal datasets? and more..."
   ]
  },
  {
   "cell_type": "code",
   "execution_count": 1,
   "metadata": {},
   "outputs": [],
   "source": [
    "# add flowchart for going from in-situ to airborne to model data"
   ]
  },
  {
   "cell_type": "markdown",
   "metadata": {},
   "source": [
    "## Grand Mesa, Colorado, Winter 2019-2020"
   ]
  },
  {
   "cell_type": "code",
   "execution_count": null,
   "metadata": {},
   "outputs": [],
   "source": [
    "# add image of grand mesa"
   ]
  },
  {
   "cell_type": "markdown",
   "metadata": {},
   "source": [
    "## Snow pit temperature data\n",
    "*Add brief description....*    "
   ]
  },
  {
   "cell_type": "code",
   "execution_count": 3,
   "metadata": {},
   "outputs": [],
   "source": [
    "# add map of snowpit distribution-- from Dillon?"
   ]
  },
  {
   "cell_type": "markdown",
   "metadata": {},
   "source": [
    "#### Data wrangling\n",
    "\n",
    "We considered:\n",
    "\n",
    "* Grand Mesa IOP snow pit temperature data\n",
    "* Grand Mesa Time Series snow pit temperature data\n",
    "* COVID quarantine extended snow pit temperature data (which will be available with SnowEx data following QA/QC)\n",
    "\n",
    "Our hackweek exploration (as Python/Jupyter/Git newbies): can we collect, transform, and integrate these data such that we can look at a timeline of snow temperatures on the Mesa from a winter snowpack, through warming and ripening?\n"
   ]
  },
  {
   "cell_type": "code",
   "execution_count": null,
   "metadata": {},
   "outputs": [],
   "source": [
    "# show some screenshots of our data wrangling here"
   ]
  },
  {
   "cell_type": "markdown",
   "metadata": {},
   "source": [
    "#### Visualization"
   ]
  },
  {
   "cell_type": "code",
   "execution_count": null,
   "metadata": {},
   "outputs": [],
   "source": [
    " # this could be a great opportunity to look at some of Aji's work"
   ]
  },
  {
   "cell_type": "markdown",
   "metadata": {},
   "source": [
    "#### Takeaways"
   ]
  },
  {
   "cell_type": "markdown",
   "metadata": {},
   "source": [
    "* Integrating data from different sources poses different challenges\n",
    "    * Reorienting and matching data frames took some troubleshooting\n",
    "    * Pandas, Geopandas, and Holoviz\n",
    "* A season-long integration of snow pit data can be useful to compare with other observations of snow temperatures"
   ]
  },
  {
   "cell_type": "markdown",
   "metadata": {},
   "source": [
    "## Thermal IR\n",
    "*Add brief description....*  "
   ]
  },
  {
   "cell_type": "markdown",
   "metadata": {},
   "source": [
    "#### Data wrangling\n",
    "*Add description of where the data came from and what needed to be done to get it analysis ready.*   \n",
    "*Feel free to just load the preprocessed file from disk, instead of going through all the preprocessing steps.*"
   ]
  },
  {
   "cell_type": "code",
   "execution_count": null,
   "metadata": {},
   "outputs": [],
   "source": []
  },
  {
   "cell_type": "markdown",
   "metadata": {},
   "source": [
    "#### Visualization"
   ]
  },
  {
   "cell_type": "code",
   "execution_count": null,
   "metadata": {},
   "outputs": [],
   "source": []
  },
  {
   "cell_type": "markdown",
   "metadata": {},
   "source": [
    "#### Takeaways"
   ]
  },
  {
   "cell_type": "code",
   "execution_count": null,
   "metadata": {},
   "outputs": [],
   "source": []
  },
  {
   "cell_type": "markdown",
   "metadata": {},
   "source": [
    "## ERA5 vs. SNOTEL vs. SnowEx Temperature comparison\n",
    "*Add brief description....*  "
   ]
  },
  {
   "cell_type": "markdown",
   "metadata": {},
   "source": [
    "#### Data wrangling\n",
    "*Add description of where the data came from and what needed to be done to get it analysis ready.*   \n",
    "*Feel free to just load the preprocessed file from disk, instead of going through all the preprocessing steps.*"
   ]
  },
  {
   "cell_type": "code",
   "execution_count": null,
   "metadata": {},
   "outputs": [],
   "source": []
  },
  {
   "cell_type": "markdown",
   "metadata": {},
   "source": [
    "#### Visualization"
   ]
  },
  {
   "cell_type": "code",
   "execution_count": null,
   "metadata": {},
   "outputs": [],
   "source": []
  },
  {
   "cell_type": "markdown",
   "metadata": {},
   "source": [
    "#### Takeaways"
   ]
  },
  {
   "cell_type": "code",
   "execution_count": null,
   "metadata": {},
   "outputs": [],
   "source": []
  },
  {
   "cell_type": "markdown",
   "metadata": {},
   "source": [
    "## Conopy shadows and impact on snow surface temperature\n",
    "*Add brief description....*  "
   ]
  },
  {
   "cell_type": "markdown",
   "metadata": {},
   "source": [
    "#### Data wrangling\n",
    "*Add description of where the data came from and what needed to be done to get it analysis ready.*   \n",
    "*Feel free to just load the preprocessed file from disk, instead of going through all the preprocessing steps.*"
   ]
  },
  {
   "cell_type": "code",
   "execution_count": null,
   "metadata": {},
   "outputs": [],
   "source": []
  },
  {
   "cell_type": "markdown",
   "metadata": {},
   "source": [
    "#### Visualization"
   ]
  },
  {
   "cell_type": "code",
   "execution_count": null,
   "metadata": {},
   "outputs": [],
   "source": []
  },
  {
   "cell_type": "markdown",
   "metadata": {},
   "source": [
    "#### Takeaways"
   ]
  },
  {
   "cell_type": "code",
   "execution_count": null,
   "metadata": {},
   "outputs": [],
   "source": []
  },
  {
   "cell_type": "markdown",
   "metadata": {},
   "source": [
    "## Summary\n",
    "*Summary and takeaways*"
   ]
  },
  {
   "cell_type": "code",
   "execution_count": null,
   "metadata": {},
   "outputs": [],
   "source": []
  }
 ],
 "metadata": {
  "kernelspec": {
   "display_name": "Python 3",
   "language": "python",
   "name": "python3"
  },
  "language_info": {
   "codemirror_mode": {
    "name": "ipython",
    "version": 3
   },
   "file_extension": ".py",
   "mimetype": "text/x-python",
   "name": "python",
   "nbconvert_exporter": "python",
   "pygments_lexer": "ipython3",
   "version": "3.8.8"
  }
 },
 "nbformat": 4,
 "nbformat_minor": 4
}
