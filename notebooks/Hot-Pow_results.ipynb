{
 "cells": [
  {
   "cell_type": "markdown",
   "metadata": {
    "jupyter": {
     "outputs_hidden": true
    }
   },
   "source": [
    "# Hot-Pow\n",
    "### Investigating SnowEx Temperature Observations at Grand Mesa, Colorado, Winter 2019-2020"
   ]
  },
  {
   "cell_type": "markdown",
   "metadata": {},
   "source": [
    "#### Learning objectives\n",
    "* **Data Wrangling**\n",
    "    * How can we pull in new external data sources and format these for use\n",
    "* **Data Visualization**\n",
    "    * Timeseries plotting with matplotlib and other interactive plotters (e.g., Holoviz)\n",
    "* **Advanced Geospatial Visualization**\n",
    "    * GIS style and multi-dimensional plotting\n",
    "* **Exploring Science Questions using Thermal Data**\n",
    "    * *Add more here which gets echoed under summary* \n",
    "    * How does SnowEx data (especially temperatures) compare to the ERA5 reanalysis product? \n",
    "    * How do near surface temperatures taken at snow puts compare to other thermal datasets? and more..."
   ]
  },
  {
   "cell_type": "code",
   "execution_count": 1,
   "metadata": {},
   "outputs": [],
   "source": [
    "# add flowchart for going from in-situ to airborne to model data"
   ]
  },
  {
   "cell_type": "markdown",
   "metadata": {},
   "source": [
    "## Grand Mesa, Colorado, Winter 2019-2020\n",
    "![foo](images/grand_mesa_snotel.png)"
   ]
  },
  {
   "cell_type": "markdown",
   "metadata": {},
   "source": [
    "## Snow pit temperature data\n",
    "*Add brief description....*    "
   ]
  },
  {
   "cell_type": "markdown",
   "metadata": {},
   "source": [
    "![foo](images/bokeh_plot-6.png)"
   ]
  },
  {
   "cell_type": "markdown",
   "metadata": {},
   "source": [
    "### Data wrangling\n",
    "\n",
    "We considered:\n",
    "\n",
    "* Grand Mesa IOP snow pit temperature data\n",
    "* Grand Mesa Time Series snow pit temperature data\n",
    "* COVID quarantine extended snow pit temperature data (which will be available with SnowEx data following QA/QC)\n",
    "\n",
    "Our hackweek exploration (as Python/Jupyter/Git newbies): can we collect, transform, and integrate these data such that we can look at a timeline of snow temperatures on the Mesa from a winter snowpack, through warming and ripening?\n"
   ]
  },
  {
   "cell_type": "markdown",
   "metadata": {},
   "source": [
    "# # show some screenshots of our data wrangling here"
   ]
  },
  {
   "cell_type": "code",
   "execution_count": 4,
   "metadata": {},
   "outputs": [],
   "source": [
    "import pandas as pd\n",
    "import os\n",
    "import glob\n",
    "import geopandas   \n",
    "\n",
    "import utm  \n",
    "import numpy as np\n",
    "import hvplot.pandas  # noqa\n",
    "import hvplot.dask  # noqa\n",
    "\n",
    "# use glob to get all the csv files in the data folder\n",
    "path = './data/'\n",
    "csv_files = glob.glob(os.path.join(path, \"*.csv\"))\n",
    "layer_df = pd.DataFrame()\n",
    "\n",
    "def utm_to_latlon(coords, zone_number, zone_letter):\n",
    "    easting = coords[0]\n",
    "    northing = coords[1]\n",
    "    return utm.to_latlon(easting, northing, zone_number, zone_letter)\n",
    "\n",
    "  \n",
    "# loop over the list of csv files\n",
    "for f in csv_files:\n",
    "    df = pd.read_csv(f, header=None)\n",
    "    dfdata = pd.read_csv(f, header = 13)\n",
    "    # grab the metadata only\n",
    "    dfmeta = df.head(12)\n",
    "    # transpose the metadata to columns\n",
    "    dftranspose = dfmeta.transpose().head(2)\n",
    "    # grab column names from the first row\n",
    "    newheader = dftranspose.iloc[0]\n",
    "    # remove the column names row\n",
    "    dftranspose = dftranspose[1:]\n",
    "    # add column names to transposed metadata\n",
    "    dftranspose.columns = newheader\n",
    "    # duplicate rows of metadata to length of snow pit temperature profile\n",
    "    dfdup = dftranspose.reindex(dftranspose.index.repeat(len(dfdata))).reset_index(drop=True)    \n",
    "    # merge dfdata with dfdup to make a complete df of snow profile temps\n",
    "    dfmerged = pd.concat([dfdup, dfdata], axis = 1)\n",
    "    del dfmerged['Hs:'] # remove the total HS measurement column\n",
    "    # create snow pit location geometry\n",
    "    gdf = geopandas.GeoDataFrame(\n",
    "    dfmerged, geometry=geopandas.points_from_xy(dfmerged['Easting:'], dfmerged['Northing:']))\n",
    "\n",
    "    layer_df = layer_df.append(dfmerged)\n"
   ]
  },
  {
   "cell_type": "markdown",
   "metadata": {},
   "source": [
    "### 16 columns across X files"
   ]
  },
  {
   "cell_type": "code",
   "execution_count": 5,
   "metadata": {},
   "outputs": [
    {
     "data": {
      "text/plain": [
       "(661, 16)"
      ]
     },
     "execution_count": 5,
     "metadata": {},
     "output_type": "execute_result"
    }
   ],
   "source": [
    "layer_df.shape"
   ]
  },
  {
   "cell_type": "markdown",
   "metadata": {},
   "source": [
    "## Sample few rows"
   ]
  },
  {
   "cell_type": "code",
   "execution_count": 8,
   "metadata": {},
   "outputs": [
    {
     "data": {
      "text/html": [
       "<div>\n",
       "<style scoped>\n",
       "    .dataframe tbody tr th:only-of-type {\n",
       "        vertical-align: middle;\n",
       "    }\n",
       "\n",
       "    .dataframe tbody tr th {\n",
       "        vertical-align: top;\n",
       "    }\n",
       "\n",
       "    .dataframe thead th {\n",
       "        text-align: right;\n",
       "    }\n",
       "</style>\n",
       "<table border=\"1\" class=\"dataframe\">\n",
       "  <thead>\n",
       "    <tr style=\"text-align: right;\">\n",
       "      <th></th>\n",
       "      <th>Location:</th>\n",
       "      <th>Type:</th>\n",
       "      <th>Easting:</th>\n",
       "      <th>Northing:</th>\n",
       "      <th>Surveyor:</th>\n",
       "      <th>Time:</th>\n",
       "      <th>Time Type:</th>\n",
       "      <th>Air Temp:</th>\n",
       "      <th>Ground:</th>\n",
       "      <th>Notes:</th>\n",
       "      <th>Wx:</th>\n",
       "      <th>Hs</th>\n",
       "      <th>Temperature</th>\n",
       "      <th>Notes</th>\n",
       "      <th>geometry</th>\n",
       "      <th>Wx:</th>\n",
       "    </tr>\n",
       "  </thead>\n",
       "  <tbody>\n",
       "    <tr>\n",
       "      <th>0</th>\n",
       "      <td>Skyway</td>\n",
       "      <td>Trees</td>\n",
       "      <td>754148</td>\n",
       "      <td>4325844</td>\n",
       "      <td>J. Lund</td>\n",
       "      <td>5/3/20 18:32</td>\n",
       "      <td>PM</td>\n",
       "      <td>3.2</td>\n",
       "      <td>Smooth, grass ~10cm</td>\n",
       "      <td>No stratigraphy. I'm assuming I thought it wou...</td>\n",
       "      <td>Partly cloudy, light breeze.</td>\n",
       "      <td>63</td>\n",
       "      <td>-0.2</td>\n",
       "      <td>NaN</td>\n",
       "      <td>POINT (754148.000 4325844.000)</td>\n",
       "      <td>NaN</td>\n",
       "    </tr>\n",
       "    <tr>\n",
       "      <th>1</th>\n",
       "      <td>Skyway</td>\n",
       "      <td>Trees</td>\n",
       "      <td>754148</td>\n",
       "      <td>4325844</td>\n",
       "      <td>J. Lund</td>\n",
       "      <td>5/3/20 18:32</td>\n",
       "      <td>PM</td>\n",
       "      <td>3.2</td>\n",
       "      <td>Smooth, grass ~10cm</td>\n",
       "      <td>No stratigraphy. I'm assuming I thought it wou...</td>\n",
       "      <td>Partly cloudy, light breeze.</td>\n",
       "      <td>60</td>\n",
       "      <td>-0.2</td>\n",
       "      <td>NaN</td>\n",
       "      <td>POINT (754148.000 4325844.000)</td>\n",
       "      <td>NaN</td>\n",
       "    </tr>\n",
       "    <tr>\n",
       "      <th>2</th>\n",
       "      <td>Skyway</td>\n",
       "      <td>Trees</td>\n",
       "      <td>754148</td>\n",
       "      <td>4325844</td>\n",
       "      <td>J. Lund</td>\n",
       "      <td>5/3/20 18:32</td>\n",
       "      <td>PM</td>\n",
       "      <td>3.2</td>\n",
       "      <td>Smooth, grass ~10cm</td>\n",
       "      <td>No stratigraphy. I'm assuming I thought it wou...</td>\n",
       "      <td>Partly cloudy, light breeze.</td>\n",
       "      <td>50</td>\n",
       "      <td>-0.2</td>\n",
       "      <td>NaN</td>\n",
       "      <td>POINT (754148.000 4325844.000)</td>\n",
       "      <td>NaN</td>\n",
       "    </tr>\n",
       "    <tr>\n",
       "      <th>3</th>\n",
       "      <td>Skyway</td>\n",
       "      <td>Trees</td>\n",
       "      <td>754148</td>\n",
       "      <td>4325844</td>\n",
       "      <td>J. Lund</td>\n",
       "      <td>5/3/20 18:32</td>\n",
       "      <td>PM</td>\n",
       "      <td>3.2</td>\n",
       "      <td>Smooth, grass ~10cm</td>\n",
       "      <td>No stratigraphy. I'm assuming I thought it wou...</td>\n",
       "      <td>Partly cloudy, light breeze.</td>\n",
       "      <td>40</td>\n",
       "      <td>-0.2</td>\n",
       "      <td>NaN</td>\n",
       "      <td>POINT (754148.000 4325844.000)</td>\n",
       "      <td>NaN</td>\n",
       "    </tr>\n",
       "    <tr>\n",
       "      <th>4</th>\n",
       "      <td>Skyway</td>\n",
       "      <td>Trees</td>\n",
       "      <td>754148</td>\n",
       "      <td>4325844</td>\n",
       "      <td>J. Lund</td>\n",
       "      <td>5/3/20 18:32</td>\n",
       "      <td>PM</td>\n",
       "      <td>3.2</td>\n",
       "      <td>Smooth, grass ~10cm</td>\n",
       "      <td>No stratigraphy. I'm assuming I thought it wou...</td>\n",
       "      <td>Partly cloudy, light breeze.</td>\n",
       "      <td>30</td>\n",
       "      <td>-0.2</td>\n",
       "      <td>NaN</td>\n",
       "      <td>POINT (754148.000 4325844.000)</td>\n",
       "      <td>NaN</td>\n",
       "    </tr>\n",
       "  </tbody>\n",
       "</table>\n",
       "</div>"
      ],
      "text/plain": [
       "  Location:  Type: Easting: Northing: Surveyor:         Time: Time Type:  \\\n",
       "0    Skyway  Trees   754148   4325844   J. Lund  5/3/20 18:32         PM   \n",
       "1    Skyway  Trees   754148   4325844   J. Lund  5/3/20 18:32         PM   \n",
       "2    Skyway  Trees   754148   4325844   J. Lund  5/3/20 18:32         PM   \n",
       "3    Skyway  Trees   754148   4325844   J. Lund  5/3/20 18:32         PM   \n",
       "4    Skyway  Trees   754148   4325844   J. Lund  5/3/20 18:32         PM   \n",
       "\n",
       "  Air Temp:              Ground:  \\\n",
       "0       3.2  Smooth, grass ~10cm   \n",
       "1       3.2  Smooth, grass ~10cm   \n",
       "2       3.2  Smooth, grass ~10cm   \n",
       "3       3.2  Smooth, grass ~10cm   \n",
       "4       3.2  Smooth, grass ~10cm   \n",
       "\n",
       "                                              Notes:  \\\n",
       "0  No stratigraphy. I'm assuming I thought it wou...   \n",
       "1  No stratigraphy. I'm assuming I thought it wou...   \n",
       "2  No stratigraphy. I'm assuming I thought it wou...   \n",
       "3  No stratigraphy. I'm assuming I thought it wou...   \n",
       "4  No stratigraphy. I'm assuming I thought it wou...   \n",
       "\n",
       "                            Wx:  Hs  Temperature  Notes  \\\n",
       "0  Partly cloudy, light breeze.  63         -0.2    NaN   \n",
       "1  Partly cloudy, light breeze.  60         -0.2    NaN   \n",
       "2  Partly cloudy, light breeze.  50         -0.2    NaN   \n",
       "3  Partly cloudy, light breeze.  40         -0.2    NaN   \n",
       "4  Partly cloudy, light breeze.  30         -0.2    NaN   \n",
       "\n",
       "                         geometry Wx:   \n",
       "0  POINT (754148.000 4325844.000)  NaN  \n",
       "1  POINT (754148.000 4325844.000)  NaN  \n",
       "2  POINT (754148.000 4325844.000)  NaN  \n",
       "3  POINT (754148.000 4325844.000)  NaN  \n",
       "4  POINT (754148.000 4325844.000)  NaN  "
      ]
     },
     "execution_count": 8,
     "metadata": {},
     "output_type": "execute_result"
    }
   ],
   "source": [
    "layer_df.head()"
   ]
  },
  {
   "cell_type": "markdown",
   "metadata": {},
   "source": [
    "### Visualization"
   ]
  },
  {
   "cell_type": "markdown",
   "metadata": {},
   "source": [
    "#### Temperature profiles at Height 100 across 'Open' and 'Trees' at a particular site looking at DAY time vs NIGHT Time\n"
   ]
  },
  {
   "cell_type": "code",
   "execution_count": 11,
   "metadata": {},
   "outputs": [
    {
     "data": {},
     "metadata": {},
     "output_type": "display_data"
    },
    {
     "data": {
      "application/vnd.holoviews_exec.v0+json": "",
      "text/html": [
       "<div id='1168'>\n",
       "\n",
       "\n",
       "\n",
       "\n",
       "\n",
       "  <div class=\"bk-root\" id=\"92ecb191-d6d8-45f9-88c2-7afc499764ad\" data-root-id=\"1168\"></div>\n",
       "</div>\n",
       "<script type=\"application/javascript\">(function(root) {\n",
       "  function embed_document(root) {\n",
       "    var docs_json = {\"f6f36ac2-b64a-43ed-a2e3-cf1cf1fdbd8a\":{\"defs\":[],\"roots\":{\"references\":[{\"attributes\":{\"axis\":{\"id\":\"1231\"},\"dimension\":1,\"grid_line_color\":null,\"ticker\":null},\"id\":\"1234\",\"type\":\"Grid\"},{\"attributes\":{},\"id\":\"1235\",\"type\":\"SaveTool\"},{\"attributes\":{},\"id\":\"1237\",\"type\":\"WheelZoomTool\"},{\"attributes\":{\"margin\":[5,5,5,5],\"name\":\"HSpacer02018\",\"sizing_mode\":\"stretch_width\"},\"id\":\"1469\",\"type\":\"Spacer\"},{\"attributes\":{},\"id\":\"1236\",\"type\":\"PanTool\"},{\"attributes\":{},\"id\":\"1229\",\"type\":\"CategoricalTicker\"},{\"attributes\":{\"overlay\":{\"id\":\"1240\"}},\"id\":\"1238\",\"type\":\"BoxZoomTool\"},{\"attributes\":{},\"id\":\"1226\",\"type\":\"LinearScale\"},{\"attributes\":{},\"id\":\"1239\",\"type\":\"ResetTool\"},{\"attributes\":{\"axis_label\":\"Time Type:\",\"formatter\":{\"id\":\"1258\"},\"major_label_policy\":{\"id\":\"1259\"},\"ticker\":{\"id\":\"1229\"}},\"id\":\"1228\",\"type\":\"CategoricalAxis\"},{\"attributes\":{\"axis\":{\"id\":\"1228\"},\"grid_line_color\":null,\"ticker\":null},\"id\":\"1230\",\"type\":\"Grid\"},{\"attributes\":{},\"id\":\"1178\",\"type\":\"CategoricalScale\"},{\"attributes\":{\"below\":[{\"id\":\"1228\"}],\"center\":[{\"id\":\"1230\"},{\"id\":\"1234\"}],\"height\":500,\"left\":[{\"id\":\"1231\"}],\"margin\":null,\"min_border_bottom\":10,\"min_border_left\":10,\"min_border_right\":10,\"min_border_top\":10,\"renderers\":[{\"id\":\"1254\"}],\"sizing_mode\":\"fixed\",\"title\":{\"id\":\"1220\"},\"toolbar\":{\"id\":\"1241\"},\"toolbar_location\":null,\"width\":700,\"x_range\":{\"id\":\"1170\"},\"x_scale\":{\"id\":\"1224\"},\"y_range\":{\"id\":\"1171\"},\"y_scale\":{\"id\":\"1226\"}},\"id\":\"1219\",\"subtype\":\"Figure\",\"type\":\"Plot\"},{\"attributes\":{\"margin\":[5,5,5,5],\"name\":\"HSpacer02017\",\"sizing_mode\":\"stretch_width\"},\"id\":\"1169\",\"type\":\"Spacer\"},{\"attributes\":{\"data\":{\"Temperature\":{\"__ndarray__\":\"zczMzMzMFMCamZmZmZnJvzMzMzMzMxHAAAAAAAAAEMAAAAAAAAAIwAAAAAAAAPC/mpmZmZmZub+amZmZmZkdwJqZmZmZmcm/MzMzMzMz07+amZmZmZnJvw==\",\"dtype\":\"float64\",\"order\":\"little\",\"shape\":[11]},\"Time_Type_colon\":[\"PM\",\"PM\",\"AM\",\"PM\",\"AM\",\"PM\",\"PM\",\"AM\",\"PM\",\"PM\",\"AM\"]},\"selected\":{\"id\":\"1249\"},\"selection_policy\":{\"id\":\"1282\"}},\"id\":\"1248\",\"type\":\"ColumnDataSource\"},{\"attributes\":{\"bottom_units\":\"screen\",\"fill_alpha\":0.5,\"fill_color\":\"lightgrey\",\"left_units\":\"screen\",\"level\":\"overlay\",\"line_alpha\":1.0,\"line_color\":\"black\",\"line_dash\":[4,4],\"line_width\":2,\"right_units\":\"screen\",\"syncable\":false,\"top_units\":\"screen\"},\"id\":\"1194\",\"type\":\"BoxAnnotation\"},{\"attributes\":{},\"id\":\"1282\",\"type\":\"UnionRenderers\"},{\"attributes\":{\"bottom_units\":\"screen\",\"fill_alpha\":0.5,\"fill_color\":\"lightgrey\",\"left_units\":\"screen\",\"level\":\"overlay\",\"line_alpha\":1.0,\"line_color\":\"black\",\"line_dash\":[4,4],\"line_width\":2,\"right_units\":\"screen\",\"syncable\":false,\"top_units\":\"screen\"},\"id\":\"1240\",\"type\":\"BoxAnnotation\"},{\"attributes\":{},\"id\":\"1262\",\"type\":\"AllLabels\"},{\"attributes\":{},\"id\":\"1212\",\"type\":\"CategoricalTickFormatter\"},{\"attributes\":{},\"id\":\"1271\",\"type\":\"UnionRenderers\"},{\"attributes\":{\"toolbars\":[{\"id\":\"1195\"},{\"id\":\"1241\"}],\"tools\":[{\"id\":\"1172\"},{\"id\":\"1189\"},{\"id\":\"1190\"},{\"id\":\"1191\"},{\"id\":\"1192\"},{\"id\":\"1193\"},{\"id\":\"1218\"},{\"id\":\"1235\"},{\"id\":\"1236\"},{\"id\":\"1237\"},{\"id\":\"1238\"},{\"id\":\"1239\"}]},\"id\":\"1286\",\"type\":\"ProxyToolbar\"},{\"attributes\":{\"active_multi\":null,\"tools\":[{\"id\":\"1218\"},{\"id\":\"1235\"},{\"id\":\"1236\"},{\"id\":\"1237\"},{\"id\":\"1238\"},{\"id\":\"1239\"}]},\"id\":\"1241\",\"type\":\"Toolbar\"},{\"attributes\":{\"fill_color\":{\"value\":\"#30a2da\"},\"top\":{\"field\":\"Temperature\"},\"width\":{\"value\":0.8},\"x\":{\"field\":\"Time_Type_colon\"}},\"id\":\"1205\",\"type\":\"VBar\"},{\"attributes\":{},\"id\":\"1224\",\"type\":\"CategoricalScale\"},{\"attributes\":{\"children\":[[{\"id\":\"1173\"},0,0],[{\"id\":\"1219\"},0,1]]},\"id\":\"1285\",\"type\":\"GridBox\"},{\"attributes\":{},\"id\":\"1203\",\"type\":\"Selection\"},{\"attributes\":{\"fill_alpha\":{\"value\":0.1},\"fill_color\":{\"value\":\"#30a2da\"},\"line_alpha\":{\"value\":0.1},\"top\":{\"field\":\"Temperature\"},\"width\":{\"value\":0.8},\"x\":{\"field\":\"Time_Type_colon\"}},\"id\":\"1206\",\"type\":\"VBar\"},{\"attributes\":{\"data_source\":{\"id\":\"1202\"},\"glyph\":{\"id\":\"1205\"},\"hover_glyph\":null,\"muted_glyph\":{\"id\":\"1207\"},\"nonselection_glyph\":{\"id\":\"1206\"},\"selection_glyph\":{\"id\":\"1210\"},\"view\":{\"id\":\"1209\"}},\"id\":\"1208\",\"type\":\"GlyphRenderer\"},{\"attributes\":{\"source\":{\"id\":\"1202\"}},\"id\":\"1209\",\"type\":\"CDSView\"},{\"attributes\":{},\"id\":\"1258\",\"type\":\"CategoricalTickFormatter\"},{\"attributes\":{\"text_color\":\"black\",\"text_font_size\":\"12pt\"},\"id\":\"1174\",\"type\":\"Title\"},{\"attributes\":{\"children\":[{\"id\":\"1287\"},{\"id\":\"1285\"}]},\"id\":\"1288\",\"type\":\"Column\"},{\"attributes\":{\"fill_alpha\":{\"value\":0.2},\"fill_color\":{\"value\":\"#30a2da\"},\"line_alpha\":{\"value\":0.2},\"top\":{\"field\":\"Temperature\"},\"width\":{\"value\":0.8},\"x\":{\"field\":\"Time_Type_colon\"}},\"id\":\"1207\",\"type\":\"VBar\"},{\"attributes\":{\"fill_color\":{\"value\":\"#30a2da\"},\"top\":{\"field\":\"Temperature\"},\"width\":{\"value\":0.8},\"x\":{\"field\":\"Time_Type_colon\"}},\"id\":\"1251\",\"type\":\"VBar\"},{\"attributes\":{},\"id\":\"1249\",\"type\":\"Selection\"},{\"attributes\":{\"bottom\":{\"value\":0},\"fill_alpha\":{\"value\":1.0},\"fill_color\":{\"value\":\"#30a2da\"},\"hatch_alpha\":{\"value\":1.0},\"hatch_color\":{\"value\":\"black\"},\"hatch_scale\":{\"value\":12.0},\"hatch_weight\":{\"value\":1.0},\"line_alpha\":{\"value\":1.0},\"line_cap\":{\"value\":\"butt\"},\"line_color\":{\"value\":\"black\"},\"line_dash\":{\"value\":[]},\"line_dash_offset\":{\"value\":0},\"line_join\":{\"value\":\"bevel\"},\"line_width\":{\"value\":1},\"top\":{\"field\":\"Temperature\"},\"width\":{\"value\":0.8},\"x\":{\"field\":\"Time_Type_colon\"}},\"id\":\"1210\",\"type\":\"VBar\"},{\"attributes\":{\"fill_alpha\":{\"value\":0.1},\"fill_color\":{\"value\":\"#30a2da\"},\"line_alpha\":{\"value\":0.1},\"top\":{\"field\":\"Temperature\"},\"width\":{\"value\":0.8},\"x\":{\"field\":\"Time_Type_colon\"}},\"id\":\"1252\",\"type\":\"VBar\"},{\"attributes\":{\"data_source\":{\"id\":\"1248\"},\"glyph\":{\"id\":\"1251\"},\"hover_glyph\":null,\"muted_glyph\":{\"id\":\"1253\"},\"nonselection_glyph\":{\"id\":\"1252\"},\"selection_glyph\":{\"id\":\"1256\"},\"view\":{\"id\":\"1255\"}},\"id\":\"1254\",\"type\":\"GlyphRenderer\"},{\"attributes\":{\"source\":{\"id\":\"1248\"}},\"id\":\"1255\",\"type\":\"CDSView\"},{\"attributes\":{\"children\":[{\"id\":\"1169\"},{\"id\":\"1288\"},{\"id\":\"1469\"}],\"margin\":[0,0,0,0],\"name\":\"Row02013\",\"tags\":[\"embedded\"]},\"id\":\"1168\",\"type\":\"Row\"},{\"attributes\":{\"callback\":null,\"renderers\":[{\"id\":\"1208\"}],\"tags\":[\"hv_created\"],\"tooltips\":[[\"Time Type:\",\"@{Time_Type_colon}\"],[\"Temperature\",\"@{Temperature}\"]]},\"id\":\"1172\",\"type\":\"HoverTool\"},{\"attributes\":{\"fill_alpha\":{\"value\":0.2},\"fill_color\":{\"value\":\"#30a2da\"},\"line_alpha\":{\"value\":0.2},\"top\":{\"field\":\"Temperature\"},\"width\":{\"value\":0.8},\"x\":{\"field\":\"Time_Type_colon\"}},\"id\":\"1253\",\"type\":\"VBar\"},{\"attributes\":{\"below\":[{\"id\":\"1182\"}],\"center\":[{\"id\":\"1184\"},{\"id\":\"1188\"}],\"height\":500,\"left\":[{\"id\":\"1185\"}],\"margin\":null,\"min_border_bottom\":10,\"min_border_left\":10,\"min_border_right\":10,\"min_border_top\":10,\"renderers\":[{\"id\":\"1208\"}],\"sizing_mode\":\"fixed\",\"title\":{\"id\":\"1174\"},\"toolbar\":{\"id\":\"1195\"},\"toolbar_location\":null,\"width\":700,\"x_range\":{\"id\":\"1170\"},\"x_scale\":{\"id\":\"1178\"},\"y_range\":{\"id\":\"1171\"},\"y_scale\":{\"id\":\"1180\"}},\"id\":\"1173\",\"subtype\":\"Figure\",\"type\":\"Plot\"},{\"attributes\":{\"bottom\":{\"value\":0},\"fill_alpha\":{\"value\":1.0},\"fill_color\":{\"value\":\"#30a2da\"},\"hatch_alpha\":{\"value\":1.0},\"hatch_color\":{\"value\":\"black\"},\"hatch_scale\":{\"value\":12.0},\"hatch_weight\":{\"value\":1.0},\"line_alpha\":{\"value\":1.0},\"line_cap\":{\"value\":\"butt\"},\"line_color\":{\"value\":\"black\"},\"line_dash\":{\"value\":[]},\"line_dash_offset\":{\"value\":0},\"line_join\":{\"value\":\"bevel\"},\"line_width\":{\"value\":1},\"top\":{\"field\":\"Temperature\"},\"width\":{\"value\":0.8},\"x\":{\"field\":\"Time_Type_colon\"}},\"id\":\"1256\",\"type\":\"VBar\"},{\"attributes\":{\"end\":0.0,\"reset_end\":0.0,\"reset_start\":-10.44,\"start\":-10.44,\"tags\":[[[\"Temperature\",\"Temperature\",null]]]},\"id\":\"1171\",\"type\":\"Range1d\"},{\"attributes\":{\"axis_label\":\"Temperature\",\"formatter\":{\"id\":\"1261\"},\"major_label_policy\":{\"id\":\"1262\"},\"ticker\":{\"id\":\"1232\"}},\"id\":\"1231\",\"type\":\"LinearAxis\"},{\"attributes\":{},\"id\":\"1183\",\"type\":\"CategoricalTicker\"},{\"attributes\":{},\"id\":\"1232\",\"type\":\"BasicTicker\"},{\"attributes\":{\"factors\":[\"PM\",\"AM\"],\"tags\":[[[\"Time Type:\",\"Time Type:\",null]]]},\"id\":\"1170\",\"type\":\"FactorRange\"},{\"attributes\":{\"axis_label\":\"Time Type:\",\"formatter\":{\"id\":\"1212\"},\"major_label_policy\":{\"id\":\"1213\"},\"ticker\":{\"id\":\"1183\"}},\"id\":\"1182\",\"type\":\"CategoricalAxis\"},{\"attributes\":{\"data\":{\"Temperature\":{\"__ndarray__\":\"AAAAAAAAEsBmZmZmZmYSwAAAAAAAACPAAAAAAAAAEMBmZmZmZmYOwJqZmZmZmcm/zczMzMzM9L+amZmZmZnJvzMzMzMzM9O/\",\"dtype\":\"float64\",\"order\":\"little\",\"shape\":[9]},\"Time_Type_colon\":[\"PM\",\"PM\",\"AM\",\"AM\",\"PM\",\"PM\",\"PM\",\"AM\",\"PM\"]},\"selected\":{\"id\":\"1203\"},\"selection_policy\":{\"id\":\"1271\"}},\"id\":\"1202\",\"type\":\"ColumnDataSource\"},{\"attributes\":{\"toolbar\":{\"id\":\"1286\"},\"toolbar_location\":\"above\"},\"id\":\"1287\",\"type\":\"ToolbarBox\"},{\"attributes\":{},\"id\":\"1180\",\"type\":\"LinearScale\"},{\"attributes\":{\"axis\":{\"id\":\"1185\"},\"dimension\":1,\"grid_line_color\":null,\"ticker\":null},\"id\":\"1188\",\"type\":\"Grid\"},{\"attributes\":{},\"id\":\"1215\",\"type\":\"BasicTickFormatter\"},{\"attributes\":{},\"id\":\"1190\",\"type\":\"PanTool\"},{\"attributes\":{},\"id\":\"1213\",\"type\":\"AllLabels\"},{\"attributes\":{\"axis\":{\"id\":\"1182\"},\"grid_line_color\":null,\"ticker\":null},\"id\":\"1184\",\"type\":\"Grid\"},{\"attributes\":{},\"id\":\"1216\",\"type\":\"AllLabels\"},{\"attributes\":{\"axis_label\":\"Temperature\",\"formatter\":{\"id\":\"1215\"},\"major_label_policy\":{\"id\":\"1216\"},\"ticker\":{\"id\":\"1186\"}},\"id\":\"1185\",\"type\":\"LinearAxis\"},{\"attributes\":{\"callback\":null,\"renderers\":[{\"id\":\"1254\"}],\"tags\":[\"hv_created\"],\"tooltips\":[[\"Time Type:\",\"@{Time_Type_colon}\"],[\"Temperature\",\"@{Temperature}\"]]},\"id\":\"1218\",\"type\":\"HoverTool\"},{\"attributes\":{},\"id\":\"1186\",\"type\":\"BasicTicker\"},{\"attributes\":{},\"id\":\"1191\",\"type\":\"WheelZoomTool\"},{\"attributes\":{\"overlay\":{\"id\":\"1194\"}},\"id\":\"1192\",\"type\":\"BoxZoomTool\"},{\"attributes\":{},\"id\":\"1261\",\"type\":\"BasicTickFormatter\"},{\"attributes\":{},\"id\":\"1189\",\"type\":\"SaveTool\"},{\"attributes\":{},\"id\":\"1259\",\"type\":\"AllLabels\"},{\"attributes\":{\"text_color\":\"black\",\"text_font_size\":\"12pt\"},\"id\":\"1220\",\"type\":\"Title\"},{\"attributes\":{},\"id\":\"1193\",\"type\":\"ResetTool\"},{\"attributes\":{\"active_multi\":null,\"tools\":[{\"id\":\"1172\"},{\"id\":\"1189\"},{\"id\":\"1190\"},{\"id\":\"1191\"},{\"id\":\"1192\"},{\"id\":\"1193\"}]},\"id\":\"1195\",\"type\":\"Toolbar\"}],\"root_ids\":[\"1168\"]},\"title\":\"Bokeh Application\",\"version\":\"2.3.2\"}};\n",
       "    var render_items = [{\"docid\":\"f6f36ac2-b64a-43ed-a2e3-cf1cf1fdbd8a\",\"root_ids\":[\"1168\"],\"roots\":{\"1168\":\"92ecb191-d6d8-45f9-88c2-7afc499764ad\"}}];\n",
       "    root.Bokeh.embed.embed_items_notebook(docs_json, render_items);\n",
       "  }\n",
       "  if (root.Bokeh !== undefined && root.Bokeh.Panel !== undefined) {\n",
       "    embed_document(root);\n",
       "  } else {\n",
       "    var attempts = 0;\n",
       "    var timer = setInterval(function(root) {\n",
       "      if (root.Bokeh !== undefined && root.Bokeh.Panel !== undefined) {\n",
       "        clearInterval(timer);\n",
       "        embed_document(root);\n",
       "      } else if (document.readyState == \"complete\") {\n",
       "        attempts++;\n",
       "        if (attempts > 100) {\n",
       "          clearInterval(timer);\n",
       "          console.log(\"Bokeh: ERROR: Unable to run BokehJS code because BokehJS library is missing\");\n",
       "        }\n",
       "      }\n",
       "    }, 10, root)\n",
       "  }\n",
       "})(window);</script>"
      ],
      "text/plain": [
       ":Layout\n",
       "   .Bars.I  :Bars   [Time Type:]   (Temperature)\n",
       "   .Bars.II :Bars   [Time Type:]   (Temperature)"
      ]
     },
     "execution_count": 11,
     "metadata": {
      "application/vnd.holoviews_exec.v0+json": {
       "id": "1168"
      }
     },
     "output_type": "execute_result"
    }
   ],
   "source": [
    "Trees_Skyway = layer_df[(layer_df[\"Location:\"]==\"Skyway\") &  (layer_df[\"Type:\"]==\"Trees\") &  (layer_df[\"Hs\"]==100)].sort_values(by='Time:').hvplot.bar(y='Temperature', x='Time Type:', height=500)\n",
    "Open_Skyway  = layer_df[(layer_df[\"Location:\"]==\"Skyway\") &  (layer_df[\"Type:\"]==\"Open\") &  (layer_df[\"Hs\"]==100)].sort_values(by='Time:').hvplot.bar(y='Temperature', x='Time Type:', height=500)\n",
    "\n",
    "plot = Trees_Skyway + Open_Skyway\n",
    "plot"
   ]
  },
  {
   "cell_type": "markdown",
   "metadata": {},
   "source": [
    "## All the Pits at Skyway, how does it vary overtime ?"
   ]
  },
  {
   "cell_type": "code",
   "execution_count": 10,
   "metadata": {},
   "outputs": [
    {
     "data": {},
     "metadata": {},
     "output_type": "display_data"
    },
    {
     "data": {
      "application/vnd.holoviews_exec.v0+json": "",
      "text/html": [
       "<div id='1002'>\n",
       "\n",
       "\n",
       "\n",
       "\n",
       "\n",
       "  <div class=\"bk-root\" id=\"dcd83151-5101-497f-864c-11671c929e72\" data-root-id=\"1002\"></div>\n",
       "</div>\n",
       "<script type=\"application/javascript\">(function(root) {\n",
       "  function embed_document(root) {\n",
       "    var docs_json = {\"47dea3a5-45a3-49b7-a8e5-bb37dad3c6a7\":{\"defs\":[],\"roots\":{\"references\":[{\"attributes\":{},\"id\":\"1047\",\"type\":\"AllLabels\"},{\"attributes\":{\"margin\":[20,20,5,20],\"min_width\":250,\"options\":[\"Skyway\",\"Mesa West\",\"County Line\"],\"title\":\"Location:\",\"value\":\"Skyway\",\"width\":250},\"id\":\"1081\",\"type\":\"Select\"},{\"attributes\":{\"margin\":[5,5,5,5],\"name\":\"VSpacer01602\",\"sizing_mode\":\"stretch_height\"},\"id\":\"1079\",\"type\":\"Spacer\"},{\"attributes\":{\"children\":[{\"id\":\"1083\"},{\"id\":\"1084\"}],\"margin\":[0,0,0,0],\"min_width\":290,\"name\":\"Column01599\",\"width\":290},\"id\":\"1082\",\"type\":\"Column\"},{\"attributes\":{\"children\":[{\"id\":\"1081\"},{\"id\":\"1082\"}],\"css_classes\":[\"panel-widget-box\"],\"margin\":[5,5,5,5],\"name\":\"WidgetBox01588\"},\"id\":\"1080\",\"type\":\"Column\"},{\"attributes\":{\"end\":66,\"js_property_callbacks\":{\"change:value\":[{\"id\":\"1096\"}]},\"margin\":[0,20,20,20],\"min_width\":250,\"show_value\":false,\"start\":0,\"tooltips\":false,\"value\":0,\"width\":250},\"id\":\"1084\",\"type\":\"Slider\"},{\"attributes\":{\"margin\":[5,0,0,20],\"name\":\"\",\"style\":{\"white-space\":\"nowrap\"},\"text\":\"Hs: <b>0</b>\",\"width\":250},\"id\":\"1083\",\"type\":\"Div\"},{\"attributes\":{},\"id\":\"1014\",\"type\":\"LinearScale\"},{\"attributes\":{\"margin\":[5,5,5,5],\"name\":\"HSpacer01606\",\"sizing_mode\":\"stretch_width\"},\"id\":\"1077\",\"type\":\"Spacer\"},{\"attributes\":{\"text\":\"Location:: Skyway, Hs: 0\",\"text_color\":\"black\",\"text_font_size\":\"12pt\"},\"id\":\"1008\",\"type\":\"Title\"},{\"attributes\":{},\"id\":\"1017\",\"type\":\"CategoricalTicker\"},{\"attributes\":{\"args\":{\"bidirectional\":false,\"properties\":{},\"source\":{\"id\":\"1084\"},\"target\":{\"id\":\"1083\"}},\"code\":\"try { \\n    var labels = ['Hs: <b>0</b>', 'Hs: <b>3</b>', 'Hs: <b>10</b>', 'Hs: <b>13</b>', 'Hs: <b>20</b>', 'Hs: <b>23</b>', 'Hs: <b>30</b>', 'Hs: <b>33</b>', 'Hs: <b>40</b>', 'Hs: <b>43</b>', 'Hs: <b>50</b>', 'Hs: <b>53</b>', 'Hs: <b>54</b>', 'Hs: <b>60</b>', 'Hs: <b>63</b>', 'Hs: <b>69</b>', 'Hs: <b>70</b>', 'Hs: <b>72</b>', 'Hs: <b>73</b>', 'Hs: <b>77</b>', 'Hs: <b>80</b>', 'Hs: <b>82</b>', 'Hs: <b>83</b>', 'Hs: <b>88</b>', 'Hs: <b>89</b>', 'Hs: <b>90</b>', 'Hs: <b>93</b>', 'Hs: <b>94</b>', 'Hs: <b>95</b>', 'Hs: <b>98</b>', 'Hs: <b>100</b>', 'Hs: <b>101</b>', 'Hs: <b>102</b>', 'Hs: <b>103</b>', 'Hs: <b>104</b>', 'Hs: <b>107</b>', 'Hs: <b>108</b>', 'Hs: <b>109</b>', 'Hs: <b>110</b>', 'Hs: <b>112</b>', 'Hs: <b>113</b>', 'Hs: <b>116</b>', 'Hs: <b>119</b>', 'Hs: <b>120</b>', 'Hs: <b>121</b>', 'Hs: <b>125</b>', 'Hs: <b>126</b>', 'Hs: <b>127</b>', 'Hs: <b>128</b>', 'Hs: <b>129</b>', 'Hs: <b>130</b>', 'Hs: <b>131</b>', 'Hs: <b>133</b>', 'Hs: <b>134</b>', 'Hs: <b>136</b>', 'Hs: <b>138</b>', 'Hs: <b>139</b>', 'Hs: <b>140</b>', 'Hs: <b>141</b>', 'Hs: <b>147</b>', 'Hs: <b>150</b>', 'Hs: <b>152</b>', 'Hs: <b>154</b>', 'Hs: <b>156</b>', 'Hs: <b>158</b>', 'Hs: <b>160</b>', 'Hs: <b>161</b>']\\n    target.text = labels[source.value]\\n     } catch(err) { console.log(err) }\",\"tags\":[140268404060064]},\"id\":\"1096\",\"type\":\"CustomJS\"},{\"attributes\":{},\"id\":\"1065\",\"type\":\"UnionRenderers\"},{\"attributes\":{\"axis\":{\"id\":\"1019\"},\"dimension\":1,\"grid_line_color\":null,\"ticker\":null},\"id\":\"1022\",\"type\":\"Grid\"},{\"attributes\":{},\"id\":\"1024\",\"type\":\"PanTool\"},{\"attributes\":{\"margin\":[5,5,5,5],\"name\":\"VSpacer01603\",\"sizing_mode\":\"stretch_height\"},\"id\":\"1085\",\"type\":\"Spacer\"},{\"attributes\":{},\"id\":\"1012\",\"type\":\"CategoricalScale\"},{\"attributes\":{},\"id\":\"1025\",\"type\":\"WheelZoomTool\"},{\"attributes\":{\"client_comm_id\":\"2603e97d86c5473fb34f14bc8e6f119c\",\"comm_id\":\"b1f8549368784609b28c0e1dd255720c\",\"plot_id\":\"1002\"},\"id\":\"1117\",\"type\":\"panel.models.comm_manager.CommManager\"},{\"attributes\":{\"axis_label\":\"Temperature\",\"formatter\":{\"id\":\"1049\"},\"major_label_policy\":{\"id\":\"1050\"},\"ticker\":{\"id\":\"1020\"}},\"id\":\"1019\",\"type\":\"LinearAxis\"},{\"attributes\":{},\"id\":\"1049\",\"type\":\"BasicTickFormatter\"},{\"attributes\":{\"axis\":{\"id\":\"1016\"},\"grid_line_color\":null,\"ticker\":null},\"id\":\"1018\",\"type\":\"Grid\"},{\"attributes\":{\"callback\":null,\"renderers\":[{\"id\":\"1042\"}],\"tags\":[\"hv_created\"],\"tooltips\":[[\"Time:\",\"@{Time_colon}\"],[\"Temperature\",\"@{Temperature}\"]]},\"id\":\"1006\",\"type\":\"HoverTool\"},{\"attributes\":{},\"id\":\"1020\",\"type\":\"BasicTicker\"},{\"attributes\":{\"end\":0.09,\"reset_end\":0.09,\"reset_start\":-2.19,\"start\":-2.19,\"tags\":[[[\"Temperature\",\"Temperature\",null]]]},\"id\":\"1005\",\"type\":\"Range1d\"},{\"attributes\":{},\"id\":\"1023\",\"type\":\"SaveTool\"},{\"attributes\":{\"overlay\":{\"id\":\"1028\"}},\"id\":\"1026\",\"type\":\"BoxZoomTool\"},{\"attributes\":{\"axis_label\":\"Time:\",\"formatter\":{\"id\":\"1046\"},\"major_label_policy\":{\"id\":\"1047\"},\"ticker\":{\"id\":\"1017\"}},\"id\":\"1016\",\"type\":\"CategoricalAxis\"},{\"attributes\":{},\"id\":\"1027\",\"type\":\"ResetTool\"},{\"attributes\":{\"active_multi\":null,\"tools\":[{\"id\":\"1006\"},{\"id\":\"1023\"},{\"id\":\"1024\"},{\"id\":\"1025\"},{\"id\":\"1026\"},{\"id\":\"1027\"}]},\"id\":\"1029\",\"type\":\"Toolbar\"},{\"attributes\":{\"children\":[{\"id\":\"1079\"},{\"id\":\"1080\"},{\"id\":\"1085\"}],\"margin\":[0,0,0,0],\"name\":\"Column01604\"},\"id\":\"1078\",\"type\":\"Column\"},{\"attributes\":{\"source\":{\"id\":\"1036\"}},\"id\":\"1043\",\"type\":\"CDSView\"},{\"attributes\":{\"line_alpha\":0.1,\"line_color\":\"#30a2da\",\"line_width\":2,\"x\":{\"field\":\"Time:\"},\"y\":{\"field\":\"Temperature\"}},\"id\":\"1040\",\"type\":\"Line\"},{\"attributes\":{},\"id\":\"1037\",\"type\":\"Selection\"},{\"attributes\":{},\"id\":\"1050\",\"type\":\"AllLabels\"},{\"attributes\":{\"line_color\":\"#30a2da\",\"line_width\":2,\"x\":{\"field\":\"Time:\"},\"y\":{\"field\":\"Temperature\"}},\"id\":\"1044\",\"type\":\"Line\"},{\"attributes\":{\"line_alpha\":0.2,\"line_color\":\"#30a2da\",\"line_width\":2,\"x\":{\"field\":\"Time:\"},\"y\":{\"field\":\"Temperature\"}},\"id\":\"1041\",\"type\":\"Line\"},{\"attributes\":{},\"id\":\"1046\",\"type\":\"CategoricalTickFormatter\"},{\"attributes\":{\"data\":{\"Temperature\":{\"__ndarray__\":\"mpmZmZmZub/NzMzMzMz0vwAAAAAAAPh/mpmZmZmZyb8AAAAAAAD4f5qZmZmZmcm/ZmZmZmZm5r8zMzMzMzPjvwAAAAAAAPC/MzMzMzMz87+amZmZmZnZvzMzMzMzM+O/AAAAAAAA8L8zMzMzMzPzv5qZmZmZmcm/zczMzMzM9L9mZmZmZmbmvzMzMzMzM/u/MzMzMzMz07+amZmZmZn5v5qZmZmZmfm/mpmZmZmZyb+amZmZmZnJvwAAAAAAAADAmpmZmZmZyb+amZmZmZnxv5qZmZmZmcm/ZmZmZmZm5r8=\",\"dtype\":\"float64\",\"order\":\"little\",\"shape\":[28]},\"Time:\":[\"5/3/20 18:32\",\"3/21/20 13:33\",\"4/6/20 7:50\",\"4/19/20 17:00\",\"3/6/20 18:15\",\"5/3/20 19:10\",\"3/21/20 11:06\",\"4/6/20 17:00\",\"4/22/20 17:18\",\"4/1/20 10:00\",\"3/28/20 10:00\",\"4/18/20 13:17\",\"3/12/20 16:22\",\"3/28/20 15:19\",\"4/21/20 17:26\",\"2/12/20 13:10\",\"4/1/20 16:35\",\"3/28/20 8:15\",\"4/21/20 6:53\",\"3/12/20 14:49\",\"3/6/20 17:05\",\"4/21/20 8:26\",\"5/3/20 7:53\",\"4/21/20 16:07\",\"5/3/20 7:02\",\"1/22/20 14:55\",\"4/22/20 16:12\",\"3/25/20 17:14\"],\"Time_colon\":[\"5/3/20 18:32\",\"3/21/20 13:33\",\"4/6/20 7:50\",\"4/19/20 17:00\",\"3/6/20 18:15\",\"5/3/20 19:10\",\"3/21/20 11:06\",\"4/6/20 17:00\",\"4/22/20 17:18\",\"4/1/20 10:00\",\"3/28/20 10:00\",\"4/18/20 13:17\",\"3/12/20 16:22\",\"3/28/20 15:19\",\"4/21/20 17:26\",\"2/12/20 13:10\",\"4/1/20 16:35\",\"3/28/20 8:15\",\"4/21/20 6:53\",\"3/12/20 14:49\",\"3/6/20 17:05\",\"4/21/20 8:26\",\"5/3/20 7:53\",\"4/21/20 16:07\",\"5/3/20 7:02\",\"1/22/20 14:55\",\"4/22/20 16:12\",\"3/25/20 17:14\"]},\"selected\":{\"id\":\"1037\"},\"selection_policy\":{\"id\":\"1065\"}},\"id\":\"1036\",\"type\":\"ColumnDataSource\"},{\"attributes\":{\"factors\":[\"5/3/20 18:32\",\"3/21/20 13:33\",\"4/6/20 7:50\",\"4/19/20 17:00\",\"3/6/20 18:15\",\"5/3/20 19:10\",\"3/21/20 11:06\",\"4/6/20 17:00\",\"4/22/20 17:18\",\"4/1/20 10:00\",\"3/28/20 10:00\",\"4/18/20 13:17\",\"3/12/20 16:22\",\"3/28/20 15:19\",\"4/21/20 17:26\",\"2/12/20 13:10\",\"4/1/20 16:35\",\"3/28/20 8:15\",\"4/21/20 6:53\",\"3/12/20 14:49\",\"3/6/20 17:05\",\"4/21/20 8:26\",\"5/3/20 7:53\",\"4/21/20 16:07\",\"5/3/20 7:02\",\"1/22/20 14:55\",\"4/22/20 16:12\",\"3/25/20 17:14\"],\"tags\":[[[\"Time:\",\"Time:\",null]]]},\"id\":\"1004\",\"type\":\"FactorRange\"},{\"attributes\":{\"data_source\":{\"id\":\"1036\"},\"glyph\":{\"id\":\"1039\"},\"hover_glyph\":null,\"muted_glyph\":{\"id\":\"1041\"},\"nonselection_glyph\":{\"id\":\"1040\"},\"selection_glyph\":{\"id\":\"1044\"},\"view\":{\"id\":\"1043\"}},\"id\":\"1042\",\"type\":\"GlyphRenderer\"},{\"attributes\":{\"margin\":[5,5,5,5],\"name\":\"HSpacer01605\",\"sizing_mode\":\"stretch_width\"},\"id\":\"1003\",\"type\":\"Spacer\"},{\"attributes\":{\"line_color\":\"#30a2da\",\"line_width\":2,\"x\":{\"field\":\"Time:\"},\"y\":{\"field\":\"Temperature\"}},\"id\":\"1039\",\"type\":\"Line\"},{\"attributes\":{\"below\":[{\"id\":\"1016\"}],\"center\":[{\"id\":\"1018\"},{\"id\":\"1022\"}],\"height\":500,\"left\":[{\"id\":\"1019\"}],\"margin\":[5,5,5,5],\"min_border_bottom\":10,\"min_border_left\":10,\"min_border_right\":10,\"min_border_top\":10,\"renderers\":[{\"id\":\"1042\"}],\"sizing_mode\":\"fixed\",\"title\":{\"id\":\"1008\"},\"toolbar\":{\"id\":\"1029\"},\"width\":700,\"x_range\":{\"id\":\"1004\"},\"x_scale\":{\"id\":\"1012\"},\"y_range\":{\"id\":\"1005\"},\"y_scale\":{\"id\":\"1014\"}},\"id\":\"1007\",\"subtype\":\"Figure\",\"type\":\"Plot\"},{\"attributes\":{\"children\":[{\"id\":\"1003\"},{\"id\":\"1007\"},{\"id\":\"1077\"},{\"id\":\"1078\"}],\"margin\":[0,0,0,0],\"name\":\"Row01587\"},\"id\":\"1002\",\"type\":\"Row\"},{\"attributes\":{\"bottom_units\":\"screen\",\"fill_alpha\":0.5,\"fill_color\":\"lightgrey\",\"left_units\":\"screen\",\"level\":\"overlay\",\"line_alpha\":1.0,\"line_color\":\"black\",\"line_dash\":[4,4],\"line_width\":2,\"right_units\":\"screen\",\"syncable\":false,\"top_units\":\"screen\"},\"id\":\"1028\",\"type\":\"BoxAnnotation\"}],\"root_ids\":[\"1002\",\"1117\"]},\"title\":\"Bokeh Application\",\"version\":\"2.3.2\"}};\n",
       "    var render_items = [{\"docid\":\"47dea3a5-45a3-49b7-a8e5-bb37dad3c6a7\",\"root_ids\":[\"1002\"],\"roots\":{\"1002\":\"dcd83151-5101-497f-864c-11671c929e72\"}}];\n",
       "    root.Bokeh.embed.embed_items_notebook(docs_json, render_items);\n",
       "  }\n",
       "  if (root.Bokeh !== undefined && root.Bokeh.Panel !== undefined) {\n",
       "    embed_document(root);\n",
       "  } else {\n",
       "    var attempts = 0;\n",
       "    var timer = setInterval(function(root) {\n",
       "      if (root.Bokeh !== undefined && root.Bokeh.Panel !== undefined) {\n",
       "        clearInterval(timer);\n",
       "        embed_document(root);\n",
       "      } else if (document.readyState == \"complete\") {\n",
       "        attempts++;\n",
       "        if (attempts > 100) {\n",
       "          clearInterval(timer);\n",
       "          console.log(\"Bokeh: ERROR: Unable to run BokehJS code because BokehJS library is missing\");\n",
       "        }\n",
       "      }\n",
       "    }, 10, root)\n",
       "  }\n",
       "})(window);</script>"
      ],
      "text/plain": [
       ":DynamicMap   [Location:,Hs]\n",
       "   :Curve   [Time:]   (Temperature)"
      ]
     },
     "execution_count": 10,
     "metadata": {
      "application/vnd.holoviews_exec.v0+json": {
       "id": "1002"
      }
     },
     "output_type": "execute_result"
    }
   ],
   "source": [
    "layer_df.hvplot.line(y='Temperature', x='Time:', groupby=['Location:','Hs'], height=500)"
   ]
  },
  {
   "cell_type": "markdown",
   "metadata": {},
   "source": [
    "#### Takeaways"
   ]
  },
  {
   "cell_type": "markdown",
   "metadata": {},
   "source": [
    "* Integrating data from different sources poses different challenges\n",
    "    * Reorienting and matching data frames took some troubleshooting\n",
    "    * Pandas, Geopandas, and Holoviz\n",
    "* A season-long integration of snow pit data can be useful to compare with other observations of snow temperatures"
   ]
  },
  {
   "cell_type": "markdown",
   "metadata": {},
   "source": [
    "## Thermal IR\n",
    "*Add brief description....*  "
   ]
  },
  {
   "cell_type": "markdown",
   "metadata": {},
   "source": [
    "### Data wrangling\n",
    "*Add description of where the data came from and what needed to be done to get it analysis ready.*   \n",
    "*Feel free to just load the preprocessed file from disk, instead of going through all the preprocessing steps.*"
   ]
  },
  {
   "cell_type": "code",
   "execution_count": null,
   "metadata": {},
   "outputs": [],
   "source": []
  },
  {
   "cell_type": "markdown",
   "metadata": {},
   "source": [
    "### Visualization"
   ]
  },
  {
   "cell_type": "code",
   "execution_count": null,
   "metadata": {},
   "outputs": [],
   "source": []
  },
  {
   "cell_type": "markdown",
   "metadata": {},
   "source": [
    "### Takeaways"
   ]
  },
  {
   "cell_type": "code",
   "execution_count": null,
   "metadata": {},
   "outputs": [],
   "source": []
  },
  {
   "cell_type": "markdown",
   "metadata": {},
   "source": [
    "## ERA5 vs. SNOTEL vs. SnowEx Temperature comparison\n",
    "\n",
    "### How does modeled ERA5 climate data compare to SNOTEL and SnowEx measurements?   \n",
    "\n",
    "Location: Grand Mesa   \n",
    "Bounds: 39.2, -108.4, 38.8, -107.7   \n",
    "Time range: February 2020   \n",
    "#### Some ERA5 variables of interest:\n",
    "\n",
    "- 2m_temperature\n",
    "- snow_albedo\n",
    "- snow_density\n",
    "- snow_depth\n",
    "- snow_depth_water_equivalent\n",
    "- temperature_of_snow_layer\n",
    "- total_precipitation   \n",
    "\n",
    "\n",
    "In this example we will pull in the [ERA5-Land hourly data from 1981 to present](https://cds.climate.copernicus.eu/cdsapp#!/dataset/reanalysis-era5-land?tab=form)  \n",
    "\n",
    "<p align=\"center\">\n",
    "<img src=\"https://datastore.copernicus-climate.eu/c3s/published-forms/c3sprod/reanalysis-era5-land/overview.png\" width=500>   \n",
    "</p>\n",
    "\n",
    "| DATA DESCRIPTION  |  |\n",
    "| ------------- | ------------- |\n",
    "| **Data type**  | Gridded |\n",
    "| **Projection**  | Regular latitude-longitude grid |\n",
    "| **Horizontal coverage**  | Global |\n",
    "| **Horizontal resolution**  | 0.1° x 0.1°; Native resolution is 9 km. |\n",
    "| **Vertical coverage**  | From 2 m above the surface level, to a soil depth of 289 cm. |\n",
    "| **Vertical resolution**  | 4 levels of the ECMWF surface model: Layer 1: 0 -7cm, Layer 2: 7 -28cm, Layer 3: 28-100cm, Layer 4: 100-289cm Some parameters are defined at 2 m over the surface. |\n",
    "| **Temporal coverage**  | January 1981 to present |\n",
    "| **Temporal resolution**  | Hourly |\n",
    "| **File format**  | GRIB / NetCDF |\n",
    "| **Update frequency**  | Monthly with a delay of about three months relatively to actual date. |    \n",
    "\n",
    " \n",
    "Additional products and documentation can be found here:   \n",
    "[ERA5-Land: documentation](https://confluence.ecmwf.int/display/CKB/ERA5-Land%3A+data+documentation)      \n",
    "[ERA5-Land monthly averaged data from 1981 to present](https://cds.climate.copernicus.eu/cdsapp#!/dataset/reanalysis-era5-land-monthly-means?tab=form)     \n",
    "[ERA5 monthly averaged data on pressure levels from 1950 to 1978 (preliminary version)](https://cds.climate.copernicus.eu/cdsapp#!/dataset/reanalysis-era5-pressure-levels-monthly-means-preliminary-back-extension?tab=overview)    \n",
    "[ERA5 hourly data on pressure levels from 1950 to 1978 (preliminary version)](https://cds.climate.copernicus.eu/cdsapp#!/dataset/reanalysis-era5-pressure-levels-preliminary-back-extension?tab=overview)    \n"
   ]
  },
  {
   "cell_type": "markdown",
   "metadata": {},
   "source": [
    "### Data wrangling\n",
    "Detailed data wrangling steps are outlined in [this notebook](https://github.com/snowex-hackweek/hot-pow/blob/main/contributors/Friedrich_Knuth/ERA5_temperature_comparison.ipynb), including:  \n",
    "- Pull in data from ERA5 API\n",
    "- Explore metadata and unit conversion\n",
    "- Quickplots to inspect query results\n",
    "\n",
    "#### Example API request"
   ]
  },
  {
   "cell_type": "code",
   "execution_count": 5,
   "metadata": {},
   "outputs": [],
   "source": [
    "# c.retrieve(\n",
    "#     'reanalysis-era5-land',\n",
    "#     {\n",
    "#         'format': 'netcdf',\n",
    "#         'variable': [\n",
    "#             '2m_temperature', 'snow_albedo', 'snow_density',\n",
    "#             'snow_depth', 'snow_depth_water_equivalent', 'temperature_of_snow_layer',\n",
    "#             'total_precipitation',\n",
    "#         ],\n",
    "#         'year': '2020',\n",
    "#         'month': [\n",
    "#             '01', '02', '03',\n",
    "#         ],\n",
    "#         'day': [\n",
    "#             '01', '02', '03',\n",
    "#             '04', '05', '06',\n",
    "#             '07', '08', '09',\n",
    "#             '10', '11', '12',\n",
    "#             '13', '14', '15',\n",
    "#             '16', '17', '18',\n",
    "#             '19', '20', '21',\n",
    "#             '22', '23', '24',\n",
    "#             '25', '26', '27',\n",
    "#             '28', '29', '30',\n",
    "#             '31',\n",
    "#         ],\n",
    "#         'time': [\n",
    "#             '00:00', '01:00', '02:00',\n",
    "#             '03:00', '04:00', '05:00',\n",
    "#             '06:00', '07:00', '08:00',\n",
    "#             '09:00', '10:00', '11:00',\n",
    "#             '12:00', '13:00', '14:00',\n",
    "#             '15:00', '16:00', '17:00',\n",
    "#             '18:00', '19:00', '20:00',\n",
    "#             '21:00', '22:00', '23:00',\n",
    "#         ],\n",
    "#         'area': [\n",
    "#             39.2, -108.4, 38.8,\n",
    "#             -107.7,\n",
    "#         ],\n",
    "#     },\n",
    "#     'data/era5_2020-02-01_2020-02-29.nc')"
   ]
  },
  {
   "cell_type": "markdown",
   "metadata": {},
   "source": [
    "### Visualization"
   ]
  },
  {
   "cell_type": "markdown",
   "metadata": {},
   "source": [
    "#### ERA5 variables over Grand Mesa on 2020-01-31 at 18:00:00"
   ]
  },
  {
   "cell_type": "markdown",
   "metadata": {},
   "source": [
    "![foo](images/era5_2020-01-31.jpeg)"
   ]
  },
  {
   "cell_type": "markdown",
   "metadata": {},
   "source": [
    "#### Where is the Mesa?"
   ]
  },
  {
   "cell_type": "markdown",
   "metadata": {},
   "source": [
    "![foo](images/era5_grand_mesa_2020-01-31.jpeg)"
   ]
  },
  {
   "cell_type": "markdown",
   "metadata": {},
   "source": [
    "#### Where are the SNOTEL sites?"
   ]
  },
  {
   "cell_type": "markdown",
   "metadata": {},
   "source": [
    "![foo](images/era5_grand_mesa__with_snotel_2020-01-31.jpeg)"
   ]
  },
  {
   "cell_type": "markdown",
   "metadata": {},
   "source": [
    "### How do the ERA5 time series at SNOTEL sites compare to SNOTEL time series?\n",
    "- use xarray with cubic interpolation at SNOTEL site locations. See [data wrangling notebook](https://github.com/snowex-hackweek/hot-pow/blob/main/contributors/Friedrich_Knuth/ERA5_temperature_comparison.ipynb) for more details."
   ]
  },
  {
   "cell_type": "markdown",
   "metadata": {},
   "source": [
    "![foo](images/era5_snotal_compare.jpeg)"
   ]
  },
  {
   "cell_type": "markdown",
   "metadata": {},
   "source": [
    "### Takeaways"
   ]
  },
  {
   "cell_type": "code",
   "execution_count": null,
   "metadata": {},
   "outputs": [],
   "source": []
  },
  {
   "cell_type": "markdown",
   "metadata": {},
   "source": [
    "## Conopy shadows and impact on snow surface temperature\n",
    "*Add brief description....*  "
   ]
  },
  {
   "cell_type": "markdown",
   "metadata": {},
   "source": [
    "### Data wrangling\n",
    "*Add description of where the data came from and what needed to be done to get it analysis ready.*   \n",
    "*Feel free to just load the preprocessed file from disk, instead of going through all the preprocessing steps.*"
   ]
  },
  {
   "cell_type": "code",
   "execution_count": null,
   "metadata": {},
   "outputs": [],
   "source": []
  },
  {
   "cell_type": "markdown",
   "metadata": {},
   "source": [
    "### Visualization"
   ]
  },
  {
   "cell_type": "code",
   "execution_count": null,
   "metadata": {},
   "outputs": [],
   "source": []
  },
  {
   "cell_type": "markdown",
   "metadata": {},
   "source": [
    "### Takeaways"
   ]
  },
  {
   "cell_type": "code",
   "execution_count": null,
   "metadata": {},
   "outputs": [],
   "source": []
  },
  {
   "cell_type": "markdown",
   "metadata": {},
   "source": [
    "## Summary\n",
    "*Summary and takeaways*"
   ]
  },
  {
   "cell_type": "code",
   "execution_count": null,
   "metadata": {},
   "outputs": [],
   "source": []
  }
 ],
 "metadata": {
  "kernelspec": {
   "display_name": "Python 3",
   "language": "python",
   "name": "python3"
  },
  "language_info": {
   "codemirror_mode": {
    "name": "ipython",
    "version": 3
   },
   "file_extension": ".py",
   "mimetype": "text/x-python",
   "name": "python",
   "nbconvert_exporter": "python",
   "pygments_lexer": "ipython3",
   "version": "3.8.8"
  }
 },
 "nbformat": 4,
 "nbformat_minor": 4
}
