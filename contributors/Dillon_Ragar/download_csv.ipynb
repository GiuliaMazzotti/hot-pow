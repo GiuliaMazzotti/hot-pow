{
 "cells": [
  {
   "cell_type": "code",
   "execution_count": 3,
   "id": "bored-intro",
   "metadata": {},
   "outputs": [],
   "source": [
    "%%capture\n",
    "!pip install git+https://github.com/friedrichknuth/driveanon.git"
   ]
  },
  {
   "cell_type": "code",
   "execution_count": 7,
   "id": "million-indianapolis",
   "metadata": {},
   "outputs": [],
   "source": [
    "import driveanon "
   ]
  },
  {
   "cell_type": "code",
   "execution_count": 11,
   "id": "universal-surface",
   "metadata": {},
   "outputs": [],
   "source": [
    "folder_blob_id = '1SFyBKULqiRLi52yiKO5mxRn5Icsp83Lm'\n",
    "\n",
    "file_names, file_blob_ids = driveanon.list_blobs(folder_blob_id,\n",
    "                                          '.csv',\n",
    "                                          )"
   ]
  },
  {
   "cell_type": "code",
   "execution_count": 13,
   "id": "patent-disposition",
   "metadata": {},
   "outputs": [
    {
     "name": "stdout",
     "output_type": "stream",
     "text": [
      "/home/jovyan/hot-pow/contributors\n"
     ]
    }
   ],
   "source": [
    "!pwd"
   ]
  },
  {
   "cell_type": "code",
   "execution_count": 20,
   "id": "liked-laser",
   "metadata": {},
   "outputs": [],
   "source": [
    "import os\n",
    "\n",
    "os.chdir('/home/jovyan/hot-pow/contributors/Zachary_Miller/pits/')"
   ]
  },
  {
   "cell_type": "code",
   "execution_count": null,
   "id": "juvenile-atlas",
   "metadata": {},
   "outputs": [],
   "source": [
    "for blob_id in file_blob_ids:\n",
    "    driveanon.save(blob_id)"
   ]
  },
  {
   "cell_type": "code",
   "execution_count": null,
   "id": "unlimited-symphony",
   "metadata": {},
   "outputs": [],
   "source": []
  }
 ],
 "metadata": {
  "kernelspec": {
   "display_name": "Python 3",
   "language": "python",
   "name": "python3"
  },
  "language_info": {
   "codemirror_mode": {
    "name": "ipython",
    "version": 3
   },
   "file_extension": ".py",
   "mimetype": "text/x-python",
   "name": "python",
   "nbconvert_exporter": "python",
   "pygments_lexer": "ipython3",
   "version": "3.8.8"
  }
 },
 "nbformat": 4,
 "nbformat_minor": 5
}
