{
 "cells": [
  {
   "cell_type": "markdown",
   "id": "considerable-dublin",
   "metadata": {},
   "source": [
    "# Accessing non-SNOTEL met site data from the SnowEx period"
   ]
  },
  {
   "cell_type": "markdown",
   "id": "crucial-african",
   "metadata": {},
   "source": [
    "## imports"
   ]
  },
  {
   "cell_type": "code",
   "execution_count": 1,
   "id": "absolute-drove",
   "metadata": {},
   "outputs": [],
   "source": [
    "%%capture\n",
    "!pip install git+https://github.com/friedrichknuth/driveanon.git\n",
    "    \n",
    "import driveanon\n",
    "import pandas as pd\n",
    "import matplotlib.pyplot as plt\n",
    "import datetime"
   ]
  },
  {
   "cell_type": "markdown",
   "id": "pointed-seeker",
   "metadata": {},
   "source": [
    "## load in datasets, format, and append to single dataframe"
   ]
  },
  {
   "cell_type": "code",
   "execution_count": 4,
   "id": "under-humanity",
   "metadata": {},
   "outputs": [],
   "source": [
    "#for accessing google drive data, blob ids and downloading\n",
    "blob_ids = ['1Ioh1huZZpIJLRtoyGvWZfvJkaSQh0-QS', #to get site locations\n",
    "            '1YT9bNveID55Lo5j4upMGrA7vEl5FWXp_', #Mesa West .csv\n",
    "            '1v2zUMtjBSohk0OX6WCirZYkddysLiZY7', #GMSP .csv\n",
    "            '1cwIsJQ5kCVcHpw6pRgywf6TKsmeg2RZC' #Mesa East .csv\n",
    "            ] \n",
    "            #'', \n",
    "            #'' ] #Mesa Middle .csv\n",
    "    \n",
    "for blob_id in blob_ids:\n",
    "    f = driveanon.save(blob_id)"
   ]
  },
  {
   "cell_type": "code",
   "execution_count": 2,
   "id": "growing-trauma",
   "metadata": {},
   "outputs": [
    {
     "name": "stderr",
     "output_type": "stream",
     "text": [
      "/srv/conda/envs/notebook/lib/python3.8/site-packages/IPython/core/interactiveshell.py:3155: DtypeWarning: Columns (8,9,10,11,12,13,14,15,16,17,18,19,20,21,22,23,25,26,27,28,29,30,31,32,33,34,35,36,37,38,39,40,41,42,43,44,45,46,47,48,49,50,51,52,53,54,55) have mixed types.Specify dtype option on import or set low_memory=False.\n",
      "  has_raised = await self.run_ast_nodes(code_ast.body, cell_name,\n",
      "/srv/conda/envs/notebook/lib/python3.8/site-packages/IPython/core/interactiveshell.py:3155: DtypeWarning: Columns (140,141,142,143) have mixed types.Specify dtype option on import or set low_memory=False.\n",
      "  has_raised = await self.run_ast_nodes(code_ast.body, cell_name,\n",
      "/srv/conda/envs/notebook/lib/python3.8/site-packages/IPython/core/interactiveshell.py:3155: DtypeWarning: Columns (11,22,23,24,25,30,31,32,33,34,35,36,37,38,39,40,41,42,43,44,45,46,47,48,49,50,51,52,53,54,55,56,57,58,59,60,61,62,63,64,65,66,67,68,69,70,71,72,73,74,75,76,77,78,79,80,81,82,83,84,85,86,87) have mixed types.Specify dtype option on import or set low_memory=False.\n",
      "  has_raised = await self.run_ast_nodes(code_ast.body, cell_name,\n"
     ]
    },
    {
     "data": {
      "text/plain": [
       "(29934, 14)"
      ]
     },
     "execution_count": 2,
     "metadata": {},
     "output_type": "execute_result"
    }
   ],
   "source": [
    "#load in csv files and trim to relevant variables\n",
    "files = ['MW-V7_clean.csv','GMSP-V2.csv','ME-V3.csv']\n",
    "cols = ['station_id','Datetime_UTC','latitude','longitude','AirTC_10ft_Avg_C','IRtarget_nadir2_C_Avg','SnowDepth_m',\n",
    "        'TCstringC_s50cm_Avg','TCstringC_s10cm_Avg','TCstringC_0cm_Avg',\n",
    "        'TCstringC_10cm_Avg','TCstringC_50cm_Avg','TCstringC_100cm_Avg',\n",
    "        'TCstringC_200cm_Avg'];\n",
    "\n",
    "#date range for trimming\n",
    "start_date = datetime.datetime(2020,1,1,0,0)\n",
    "end_date = datetime.datetime(2020,3,31,23,59)\n",
    "\n",
    "DF = pd.DataFrame(columns=cols)\n",
    "for file in files:\n",
    "    station = file[:-4]\n",
    "    \n",
    "    #hard coded this in cause I ran out of patience\n",
    "    if station[:2] == 'GM':\n",
    "        lat = 39.05084\n",
    "        lon = -108.06144\n",
    "    elif station[:2] == 'MM':\n",
    "        lat = 39.03954\n",
    "        lon = -107.94174\n",
    "    elif station[:2] == 'ME':\n",
    "        lat = 39.10358\n",
    "        lon = -107.88383\n",
    "    elif station[:2] == 'MW':\n",
    "        lat = 39.03388\n",
    "        lon = -108.21399\n",
    "        \n",
    "    df = pd.read_csv('./'+file)\n",
    "    \n",
    "    #converts any NAN text to NaN and numeric columns (fixes error raised)\n",
    "    for (columnName, columnData) in df.iteritems():\n",
    "        df[columnName] = pd.to_numeric(df[columnName],errors='coerce')\n",
    "    \n",
    "    #create and add site column\n",
    "    df.insert(0,'station_id',station)\n",
    "    \n",
    "    #add \n",
    "    df.insert(1, 'latitude', lat)\n",
    "    df.insert(2, 'longitude', lon)\n",
    "    \n",
    "    #create and add datetime column\n",
    "    full_dates = pd.to_datetime(dict(year=df['Year'], month=df['Month'], day=df['Day'], hour = df['Hour'], minute = df['Minute']))\n",
    "    df.insert(3, 'Datetime_UTC', full_dates)\n",
    "    \n",
    "    #trim to study period (January - March 2020)\n",
    "    mask = (df['Datetime_UTC'] > start_date) & (df['Datetime_UTC'] <= end_date)\n",
    "    df = df.loc[mask]\n",
    "    \n",
    "    #trim to necessary columns\n",
    "    df = df[cols]\n",
    "    \n",
    "    #append data frame\n",
    "    DF = DF.append(df, ignore_index=True)\n",
    "    \n",
    "DF.shape"
   ]
  },
  {
   "cell_type": "code",
   "execution_count": 3,
   "id": "standing-machine",
   "metadata": {},
   "outputs": [
    {
     "data": {
      "text/html": [
       "<div>\n",
       "<style scoped>\n",
       "    .dataframe tbody tr th:only-of-type {\n",
       "        vertical-align: middle;\n",
       "    }\n",
       "\n",
       "    .dataframe tbody tr th {\n",
       "        vertical-align: top;\n",
       "    }\n",
       "\n",
       "    .dataframe thead th {\n",
       "        text-align: right;\n",
       "    }\n",
       "</style>\n",
       "<table border=\"1\" class=\"dataframe\">\n",
       "  <thead>\n",
       "    <tr style=\"text-align: right;\">\n",
       "      <th></th>\n",
       "      <th>station_id</th>\n",
       "      <th>Datetime_UTC</th>\n",
       "      <th>latitude</th>\n",
       "      <th>longitude</th>\n",
       "      <th>AirTC_10ft_Avg_C</th>\n",
       "      <th>IRtarget_nadir2_C_Avg</th>\n",
       "      <th>SnowDepth_m</th>\n",
       "      <th>TCstringC_s50cm_Avg</th>\n",
       "      <th>TCstringC_s10cm_Avg</th>\n",
       "      <th>TCstringC_0cm_Avg</th>\n",
       "      <th>TCstringC_10cm_Avg</th>\n",
       "      <th>TCstringC_50cm_Avg</th>\n",
       "      <th>TCstringC_100cm_Avg</th>\n",
       "      <th>TCstringC_200cm_Avg</th>\n",
       "    </tr>\n",
       "  </thead>\n",
       "  <tbody>\n",
       "    <tr>\n",
       "      <th>0</th>\n",
       "      <td>MW-V7_clean</td>\n",
       "      <td>2020-01-01 00:10:00</td>\n",
       "      <td>39.03388</td>\n",
       "      <td>-108.21399</td>\n",
       "      <td>-10.05</td>\n",
       "      <td>-9.63</td>\n",
       "      <td>0.832106</td>\n",
       "      <td>0.659</td>\n",
       "      <td>-0.693</td>\n",
       "      <td>-1.211</td>\n",
       "      <td>-1.833</td>\n",
       "      <td>-6.174</td>\n",
       "      <td>-14.28</td>\n",
       "      <td>-11.11</td>\n",
       "    </tr>\n",
       "    <tr>\n",
       "      <th>1</th>\n",
       "      <td>MW-V7_clean</td>\n",
       "      <td>2020-01-01 00:20:00</td>\n",
       "      <td>39.03388</td>\n",
       "      <td>-108.21399</td>\n",
       "      <td>-10.09</td>\n",
       "      <td>-9.92</td>\n",
       "      <td>0.833106</td>\n",
       "      <td>0.650</td>\n",
       "      <td>-0.694</td>\n",
       "      <td>-1.214</td>\n",
       "      <td>-1.840</td>\n",
       "      <td>-6.195</td>\n",
       "      <td>-14.59</td>\n",
       "      <td>-11.06</td>\n",
       "    </tr>\n",
       "    <tr>\n",
       "      <th>2</th>\n",
       "      <td>MW-V7_clean</td>\n",
       "      <td>2020-01-01 00:30:00</td>\n",
       "      <td>39.03388</td>\n",
       "      <td>-108.21399</td>\n",
       "      <td>-10.47</td>\n",
       "      <td>-10.28</td>\n",
       "      <td>0.832106</td>\n",
       "      <td>0.641</td>\n",
       "      <td>-0.698</td>\n",
       "      <td>-1.216</td>\n",
       "      <td>-1.849</td>\n",
       "      <td>-6.211</td>\n",
       "      <td>-15.52</td>\n",
       "      <td>-11.63</td>\n",
       "    </tr>\n",
       "    <tr>\n",
       "      <th>3</th>\n",
       "      <td>MW-V7_clean</td>\n",
       "      <td>2020-01-01 00:40:00</td>\n",
       "      <td>39.03388</td>\n",
       "      <td>-108.21399</td>\n",
       "      <td>-11.63</td>\n",
       "      <td>-11.18</td>\n",
       "      <td>0.830106</td>\n",
       "      <td>0.636</td>\n",
       "      <td>-0.704</td>\n",
       "      <td>-1.221</td>\n",
       "      <td>-1.852</td>\n",
       "      <td>-6.220</td>\n",
       "      <td>-17.17</td>\n",
       "      <td>-13.03</td>\n",
       "    </tr>\n",
       "    <tr>\n",
       "      <th>4</th>\n",
       "      <td>MW-V7_clean</td>\n",
       "      <td>2020-01-01 00:50:00</td>\n",
       "      <td>39.03388</td>\n",
       "      <td>-108.21399</td>\n",
       "      <td>-12.26</td>\n",
       "      <td>-12.20</td>\n",
       "      <td>0.831106</td>\n",
       "      <td>0.635</td>\n",
       "      <td>-0.707</td>\n",
       "      <td>-1.225</td>\n",
       "      <td>-1.850</td>\n",
       "      <td>-6.225</td>\n",
       "      <td>-17.43</td>\n",
       "      <td>-13.51</td>\n",
       "    </tr>\n",
       "  </tbody>\n",
       "</table>\n",
       "</div>"
      ],
      "text/plain": [
       "    station_id        Datetime_UTC  latitude  longitude  AirTC_10ft_Avg_C  \\\n",
       "0  MW-V7_clean 2020-01-01 00:10:00  39.03388 -108.21399            -10.05   \n",
       "1  MW-V7_clean 2020-01-01 00:20:00  39.03388 -108.21399            -10.09   \n",
       "2  MW-V7_clean 2020-01-01 00:30:00  39.03388 -108.21399            -10.47   \n",
       "3  MW-V7_clean 2020-01-01 00:40:00  39.03388 -108.21399            -11.63   \n",
       "4  MW-V7_clean 2020-01-01 00:50:00  39.03388 -108.21399            -12.26   \n",
       "\n",
       "   IRtarget_nadir2_C_Avg  SnowDepth_m  TCstringC_s50cm_Avg  \\\n",
       "0                  -9.63     0.832106                0.659   \n",
       "1                  -9.92     0.833106                0.650   \n",
       "2                 -10.28     0.832106                0.641   \n",
       "3                 -11.18     0.830106                0.636   \n",
       "4                 -12.20     0.831106                0.635   \n",
       "\n",
       "   TCstringC_s10cm_Avg  TCstringC_0cm_Avg  TCstringC_10cm_Avg  \\\n",
       "0               -0.693             -1.211              -1.833   \n",
       "1               -0.694             -1.214              -1.840   \n",
       "2               -0.698             -1.216              -1.849   \n",
       "3               -0.704             -1.221              -1.852   \n",
       "4               -0.707             -1.225              -1.850   \n",
       "\n",
       "   TCstringC_50cm_Avg  TCstringC_100cm_Avg  TCstringC_200cm_Avg  \n",
       "0              -6.174               -14.28               -11.11  \n",
       "1              -6.195               -14.59               -11.06  \n",
       "2              -6.211               -15.52               -11.63  \n",
       "3              -6.220               -17.17               -13.03  \n",
       "4              -6.225               -17.43               -13.51  "
      ]
     },
     "execution_count": 3,
     "metadata": {},
     "output_type": "execute_result"
    }
   ],
   "source": [
    "DF.head()"
   ]
  },
  {
   "cell_type": "code",
   "execution_count": 4,
   "id": "broadband-delay",
   "metadata": {},
   "outputs": [
    {
     "data": {
      "text/plain": [
       "station_id                   3\n",
       "Datetime_UTC             13079\n",
       "latitude                     3\n",
       "longitude                    3\n",
       "AirTC_10ft_Avg_C          8116\n",
       "IRtarget_nadir2_C_Avg     9048\n",
       "SnowDepth_m                894\n",
       "TCstringC_s50cm_Avg       7614\n",
       "TCstringC_s10cm_Avg       1186\n",
       "TCstringC_0cm_Avg         1678\n",
       "TCstringC_10cm_Avg        2315\n",
       "TCstringC_50cm_Avg        5126\n",
       "TCstringC_100cm_Avg       6840\n",
       "TCstringC_200cm_Avg       8591\n",
       "dtype: int64"
      ]
     },
     "execution_count": 4,
     "metadata": {},
     "output_type": "execute_result"
    }
   ],
   "source": [
    "DF.nunique()"
   ]
  },
  {
   "cell_type": "code",
   "execution_count": 5,
   "id": "judicial-monitoring",
   "metadata": {},
   "outputs": [
    {
     "data": {
      "text/plain": [
       "MW-V7_clean    13096\n",
       "GMSP-V2        13095\n",
       "ME-V3           3743\n",
       "Name: station_id, dtype: int64"
      ]
     },
     "execution_count": 5,
     "metadata": {},
     "output_type": "execute_result"
    }
   ],
   "source": [
    "DF['station_id'].value_counts()"
   ]
  },
  {
   "cell_type": "markdown",
   "id": "starting-intranet",
   "metadata": {},
   "source": [
    "## Use DF dataframe to add sites to plot (3 unique sites), and add to ERA comparison plots"
   ]
  },
  {
   "cell_type": "code",
   "execution_count": 13,
   "id": "brilliant-discovery",
   "metadata": {},
   "outputs": [
    {
     "data": {
      "image/png": "[encoded data removed]",
      "text/plain": [
       "<Figure size 1080x360 with 1 Axes>"
      ]
     },
     "metadata": {
      "needs_background": "light"
     },
     "output_type": "display_data"
    }
   ],
   "source": [
    "## old method ##\n",
    "#colors = {'MW-V7_clean':1, 'GMSP-V2.csv':2, 'ME-V3':3} \n",
    "#plt.scatter(DF['Datetime_UTC'],DF['AirTC_10ft_Avg_C'],c=DF['station_id'].map(colors),s=5,marker='x',cmap='brg')\n",
    "variable = 'TCstringC_200cm_Avg'\n",
    "\n",
    "MW = DF[DF['station_id'] == 'MW-V7_clean']\n",
    "GMSP = DF[DF['station_id'] == 'GMSP-V2']\n",
    "ME = DF[DF['station_id'] == 'ME-V3']\n",
    "\n",
    "plt.figure(figsize=(15,5))\n",
    "plt.plot(MW['Datetime_UTC'], MW[variable], color='b',linestyle = ':',label='Mesa West ' + variable)\n",
    "plt.plot(GMSP['Datetime_UTC'], GMSP[variable], color='g',linestyle = ':',label='GMSP-Skyway ' + variable)\n",
    "plt.plot(ME['Datetime_UTC'], ME[variable], color='r',linestyle = ':',label='Mesa East ' + variable)\n",
    "plt.ylabel('Temperature (C)')\n",
    "\n",
    "#to trim by date\n",
    "#d1 = datetime.datetime(year=2020,month=1,day=28)\n",
    "#d2 = datetime.datetime(year=2020,month=2,day=12)\n",
    "#delta = d2 - d1\n",
    "\n",
    "plt.xlim(d1,d2)\n",
    "plt.grid(color='k', linestyle='-', linewidth=1)\n",
    "plt.legend()\n",
    "plt.show()"
   ]
  },
  {
   "cell_type": "markdown",
   "id": "vertical-picking",
   "metadata": {},
   "source": [
    "## Plotting sites on a map (from geospatial cookbook tutorial)"
   ]
  },
  {
   "cell_type": "code",
   "execution_count": 42,
   "id": "dense-glucose",
   "metadata": {},
   "outputs": [],
   "source": [
    "import os\n",
    "import requests\n",
    "import rasterio as rio\n",
    "from rasterio import plot, mask\n",
    "import geopandas as gpd\n",
    "from shapely.geometry import Point\n",
    "import contextily as ctx"
   ]
  },
  {
   "cell_type": "code",
   "execution_count": 43,
   "id": "described-generic",
   "metadata": {},
   "outputs": [],
   "source": [
    "gm_bounds = [-108.34115668,   38.82320553, -107.72839859,   39.19563035]"
   ]
  },
  {
   "cell_type": "code",
   "execution_count": 44,
   "id": "australian-astronomy",
   "metadata": {},
   "outputs": [],
   "source": [
    "#List of all products hosted by OpenTopography GlobalDEM API\n",
    "demtype_list = [\"SRTMGL3\", \"SRTMGL1\", \"SRTMGL1_E\", \"AW3D30\", \"AW3D30_E\", \"SRTM15Plus\"]"
   ]
  },
  {
   "cell_type": "code",
   "execution_count": 45,
   "id": "valid-louisiana",
   "metadata": {},
   "outputs": [],
   "source": [
    "#1 arcsec\n",
    "demtype = \"SRTMGL1_E\""
   ]
  },
  {
   "cell_type": "code",
   "execution_count": 46,
   "id": "alpine-quarter",
   "metadata": {},
   "outputs": [],
   "source": [
    "base_url=\"https://portal.opentopography.org/API/globaldem?demtype={}&west={}&south={}&east={}&north={}&outputFormat=GTiff\""
   ]
  },
  {
   "cell_type": "code",
   "execution_count": 47,
   "id": "stuck-commons",
   "metadata": {},
   "outputs": [
    {
     "data": {
      "text/plain": [
       "'https://portal.opentopography.org/API/globaldem?demtype=SRTMGL1_E&west=-108.34115668&south=38.82320553&east=-107.72839859&north=39.19563035&outputFormat=GTiff'"
      ]
     },
     "execution_count": 47,
     "metadata": {},
     "output_type": "execute_result"
    }
   ],
   "source": [
    "base_url.format(demtype, *gm_bounds)"
   ]
  },
  {
   "cell_type": "code",
   "execution_count": 48,
   "id": "convertible-bowling",
   "metadata": {},
   "outputs": [],
   "source": [
    "#Paste API key below (from user account)\n",
    "api_key = '3aac84dd977e73caac74f991bce4656c'\n",
    "if api_key:\n",
    "    demtype_list.extend(['NASADEM', 'COP30', 'COP90'])\n",
    "    demtype = 'COP30'"
   ]
  },
  {
   "cell_type": "code",
   "execution_count": 49,
   "id": "saved-engine",
   "metadata": {},
   "outputs": [],
   "source": [
    "def get_OT_GlobalDEM(demtype, bounds, out_fn=None, api_key=None):\n",
    "    if out_fn is None:\n",
    "        out_fn = '{}.tif'.format(demtype)\n",
    "    \n",
    "    if not os.path.exists(out_fn):\n",
    "        #Prepare API request url\n",
    "        #Bounds should be [minlon, minlat, maxlon, maxlat]\n",
    "        url = base_url.format(demtype, *bounds)\n",
    "        if api_key is not None:\n",
    "            url = f'{url}&API_Key={api_key}'\n",
    "        print(url)\n",
    "        #Get\n",
    "        response = requests.get(url)\n",
    "        #Should check for 200\n",
    "        #Write to disk\n",
    "        open(out_fn, 'wb').write(response.content)"
   ]
  },
  {
   "cell_type": "code",
   "execution_count": 50,
   "id": "respective-captain",
   "metadata": {},
   "outputs": [
    {
     "data": {
      "text/plain": [
       "'GM_COP30.tif'"
      ]
     },
     "execution_count": 50,
     "metadata": {},
     "output_type": "execute_result"
    }
   ],
   "source": [
    "out_fn = f\"GM_{demtype}.tif\"\n",
    "out_fn"
   ]
  },
  {
   "cell_type": "code",
   "execution_count": 51,
   "id": "premier-donna",
   "metadata": {},
   "outputs": [],
   "source": [
    "get_OT_GlobalDEM(demtype, gm_bounds, out_fn, api_key)"
   ]
  },
  {
   "cell_type": "code",
   "execution_count": 52,
   "id": "consecutive-europe",
   "metadata": {},
   "outputs": [
    {
     "name": "stdout",
     "output_type": "stream",
     "text": [
      "-rw-r--r-- 1 jovyan users 12M Jul 16 03:29 GM_COP30.tif\n"
     ]
    }
   ],
   "source": [
    "!ls -lh $out_fn"
   ]
  },
  {
   "cell_type": "code",
   "execution_count": 58,
   "id": "abandoned-evanescence",
   "metadata": {},
   "outputs": [
    {
     "data": {
      "text/html": [
       "<div>\n",
       "<style scoped>\n",
       "    .dataframe tbody tr th:only-of-type {\n",
       "        vertical-align: middle;\n",
       "    }\n",
       "\n",
       "    .dataframe tbody tr th {\n",
       "        vertical-align: top;\n",
       "    }\n",
       "\n",
       "    .dataframe thead th {\n",
       "        text-align: right;\n",
       "    }\n",
       "</style>\n",
       "<table border=\"1\" class=\"dataframe\">\n",
       "  <thead>\n",
       "    <tr style=\"text-align: right;\">\n",
       "      <th></th>\n",
       "      <th>siteName</th>\n",
       "      <th>siteShortName</th>\n",
       "      <th>latitude</th>\n",
       "      <th>longitude</th>\n",
       "      <th>elev_m</th>\n",
       "      <th>start</th>\n",
       "      <th>end</th>\n",
       "      <th>geometry</th>\n",
       "    </tr>\n",
       "  </thead>\n",
       "  <tbody>\n",
       "    <tr>\n",
       "      <th>0</th>\n",
       "      <td>LSOS</td>\n",
       "      <td>LSOS</td>\n",
       "      <td>39.05225</td>\n",
       "      <td>-108.09792</td>\n",
       "      <td>2974</td>\n",
       "      <td>10/9/16 18:20</td>\n",
       "      <td>5/17/17 15:40</td>\n",
       "      <td>POINT (-108.09792 39.05225)</td>\n",
       "    </tr>\n",
       "    <tr>\n",
       "      <th>1</th>\n",
       "      <td>Mesa East</td>\n",
       "      <td>ME</td>\n",
       "      <td>39.10358</td>\n",
       "      <td>-107.88383</td>\n",
       "      <td>2750</td>\n",
       "      <td>10/10/16 16:30</td>\n",
       "      <td>7/28/20 11:30</td>\n",
       "      <td>POINT (-107.88383 39.10358)</td>\n",
       "    </tr>\n",
       "    <tr>\n",
       "      <th>2</th>\n",
       "      <td>Mesa West</td>\n",
       "      <td>MW</td>\n",
       "      <td>39.03388</td>\n",
       "      <td>-108.21399</td>\n",
       "      <td>3033</td>\n",
       "      <td>10/9/16 21:00</td>\n",
       "      <td>7/8/20 17:00</td>\n",
       "      <td>POINT (-108.21399 39.03388)</td>\n",
       "    </tr>\n",
       "    <tr>\n",
       "      <th>3</th>\n",
       "      <td>Mesa Middle</td>\n",
       "      <td>MM</td>\n",
       "      <td>39.03954</td>\n",
       "      <td>-107.94174</td>\n",
       "      <td>3176</td>\n",
       "      <td>10/10/16 19:00</td>\n",
       "      <td>6/9/20 20:10</td>\n",
       "      <td>POINT (-107.94174 39.03954)</td>\n",
       "    </tr>\n",
       "    <tr>\n",
       "      <th>4</th>\n",
       "      <td>Skyway</td>\n",
       "      <td>GMSP</td>\n",
       "      <td>39.05084</td>\n",
       "      <td>-108.06144</td>\n",
       "      <td>3234</td>\n",
       "      <td>10/10/16 0:50</td>\n",
       "      <td>7/19/20 5:50</td>\n",
       "      <td>POINT (-108.06144 39.05084)</td>\n",
       "    </tr>\n",
       "  </tbody>\n",
       "</table>\n",
       "</div>"
      ],
      "text/plain": [
       "      siteName siteShortName  latitude  longitude  elev_m           start  \\\n",
       "0         LSOS          LSOS  39.05225 -108.09792    2974   10/9/16 18:20   \n",
       "1    Mesa East            ME  39.10358 -107.88383    2750  10/10/16 16:30   \n",
       "2    Mesa West            MW  39.03388 -108.21399    3033   10/9/16 21:00   \n",
       "3  Mesa Middle            MM  39.03954 -107.94174    3176  10/10/16 19:00   \n",
       "4       Skyway          GMSP  39.05084 -108.06144    3234   10/10/16 0:50   \n",
       "\n",
       "             end                     geometry  \n",
       "0  5/17/17 15:40  POINT (-108.09792 39.05225)  \n",
       "1  7/28/20 11:30  POINT (-107.88383 39.10358)  \n",
       "2   7/8/20 17:00  POINT (-108.21399 39.03388)  \n",
       "3   6/9/20 20:10  POINT (-107.94174 39.03954)  \n",
       "4   7/19/20 5:50  POINT (-108.06144 39.05084)  "
      ]
     },
     "execution_count": 58,
     "metadata": {},
     "output_type": "execute_result"
    }
   ],
   "source": [
    "#convert met site data to a geodataframe for plotting with DEM basemap\n",
    "met_sites = pd.read_csv('./MesaMetSites.csv')\n",
    "#met_sites['geometry'] = [Point(row['longitude'], row['latitude']) for row in met_sites]\n",
    "met_sites_gdf = gpd.GeoDataFrame(met_sites, geometry=gpd.points_from_xy(met_sites.longitude, met_sites.latitude))\n",
    "met_sites_gdf.head()"
   ]
  },
  {
   "cell_type": "code",
   "execution_count": 64,
   "id": "worse-monkey",
   "metadata": {},
   "outputs": [
    {
     "data": {
      "text/plain": [
       "<Geographic 2D CRS: EPSG:4236>\n",
       "Name: Hu Tzu Shan 1950\n",
       "Axis Info [ellipsoidal]:\n",
       "- Lat[north]: Geodetic latitude (degree)\n",
       "- Lon[east]: Geodetic longitude (degree)\n",
       "Area of Use:\n",
       "- name: Taiwan, Republic of China - onshore - Taiwan Island, Penghu (Pescadores) Islands.\n",
       "- bounds: (119.25, 21.87, 122.06, 25.34)\n",
       "Datum: Hu Tzu Shan 1950\n",
       "- Ellipsoid: International 1924\n",
       "- Prime Meridian: Greenwich"
      ]
     },
     "execution_count": 64,
     "metadata": {},
     "output_type": "execute_result"
    }
   ],
   "source": [
    "met_sites_gdf.crs = 4236\n",
    "met_sites_gdf.crs"
   ]
  },
  {
   "cell_type": "code",
   "execution_count": 69,
   "id": "formed-candidate",
   "metadata": {},
   "outputs": [
    {
     "ename": "TypeError",
     "evalue": "unsupported operand type(s) for *: 'DatasetReader' and 'Points'",
     "output_type": "error",
     "traceback": [
      "\u001b[0;31m---------------------------------------------------------------------------\u001b[0m",
      "\u001b[0;31mTypeError\u001b[0m                                 Traceback (most recent call last)",
      "\u001b[0;32m<ipython-input-69-ea6a8bd12cf6>\u001b[0m in \u001b[0;36m<module>\u001b[0;34m\u001b[0m\n\u001b[1;32m      3\u001b[0m \u001b[0;32mwith\u001b[0m \u001b[0mrio\u001b[0m\u001b[0;34m.\u001b[0m\u001b[0mopen\u001b[0m\u001b[0;34m(\u001b[0m\u001b[0mout_fn\u001b[0m\u001b[0;34m)\u001b[0m \u001b[0;32mas\u001b[0m \u001b[0msrc\u001b[0m\u001b[0;34m:\u001b[0m\u001b[0;34m\u001b[0m\u001b[0;34m\u001b[0m\u001b[0m\n\u001b[1;32m      4\u001b[0m     \u001b[0;31m#rio.plot.show(src)\u001b[0m\u001b[0;34m\u001b[0m\u001b[0;34m\u001b[0m\u001b[0;34m\u001b[0m\u001b[0m\n\u001b[0;32m----> 5\u001b[0;31m     \u001b[0msrc\u001b[0m \u001b[0;34m*\u001b[0m \u001b[0mmet_sites_gdf\u001b[0m\u001b[0;34m.\u001b[0m\u001b[0mto_crs\u001b[0m\u001b[0;34m(\u001b[0m\u001b[0;34m'EPSG:3857'\u001b[0m\u001b[0;34m)\u001b[0m\u001b[0;34m.\u001b[0m\u001b[0mhvplot\u001b[0m\u001b[0;34m(\u001b[0m\u001b[0mhover_cols\u001b[0m\u001b[0;34m=\u001b[0m\u001b[0;34m[\u001b[0m\u001b[0;34m'index'\u001b[0m\u001b[0;34m,\u001b[0m\u001b[0;34m'siteName'\u001b[0m\u001b[0;34m]\u001b[0m\u001b[0;34m)\u001b[0m\u001b[0;34m\u001b[0m\u001b[0;34m\u001b[0m\u001b[0m\n\u001b[0m",
      "\u001b[0;31mTypeError\u001b[0m: unsupported operand type(s) for *: 'DatasetReader' and 'Points'"
     ]
    }
   ],
   "source": [
    "with rio.open(out_fn) as src:\n",
    "    rio.plot.show(src)"
   ]
  },
  {
   "cell_type": "code",
   "execution_count": 68,
   "id": "integrated-apache",
   "metadata": {},
   "outputs": [
    {
     "data": {},
     "metadata": {},
     "output_type": "display_data"
    },
    {
     "data": {
      "application/vnd.holoviews_exec.v0+json": "",
      "text/html": [
       "<div id='1289'>\n",
       "\n",
       "\n",
       "\n",
       "\n",
       "\n",
       "  <div class=\"bk-root\" id=\"856852fb-8f98-4416-89a4-cf6542ab04cf\" data-root-id=\"1289\"></div>\n",
       "</div>\n",
       "<script type=\"application/javascript\">(function(root) {\n",
       "  function embed_document(root) {\n",
       "    var docs_json = {\"13fd1cfe-8566-4581-9d0b-4bb39aca48d9\":{\"defs\":[],\"roots\":{\"references\":[{\"attributes\":{\"children\":[{\"id\":\"1290\"},{\"id\":\"1302\"},{\"id\":\"1420\"}],\"margin\":[0,0,0,0],\"name\":\"Row03616\",\"tags\":[\"embedded\"]},\"id\":\"1289\",\"type\":\"Row\"},{\"attributes\":{\"dimension\":\"lon\"},\"id\":\"1333\",\"type\":\"MercatorTickFormatter\"},{\"attributes\":{},\"id\":\"1320\",\"type\":\"PanTool\"},{\"attributes\":{\"active_multi\":null,\"tools\":[{\"id\":\"1297\"},{\"id\":\"1298\"},{\"id\":\"1299\"},{\"id\":\"1320\"},{\"id\":\"1321\"}]},\"id\":\"1323\",\"type\":\"Toolbar\"},{\"attributes\":{},\"id\":\"1321\",\"type\":\"ResetTool\"},{\"attributes\":{\"margin\":[5,5,5,5],\"name\":\"HSpacer03620\",\"sizing_mode\":\"stretch_width\"},\"id\":\"1290\",\"type\":\"Spacer\"},{\"attributes\":{\"dimension\":\"lat\"},\"id\":\"1335\",\"type\":\"MercatorTickFormatter\"},{\"attributes\":{},\"id\":\"1338\",\"type\":\"AllLabels\"},{\"attributes\":{},\"id\":\"1371\",\"type\":\"UnionRenderers\"},{\"attributes\":{},\"id\":\"1345\",\"type\":\"AllLabels\"},{\"attributes\":{\"fill_alpha\":{\"value\":0.2},\"fill_color\":{\"value\":\"#30a2da\"},\"line_alpha\":{\"value\":0.2},\"line_color\":{\"value\":\"#30a2da\"},\"size\":{\"value\":5.477225575051661},\"x\":{\"field\":\"x\"},\"y\":{\"field\":\"y\"}},\"id\":\"1362\",\"type\":\"Scatter\"},{\"attributes\":{\"dimension\":\"lat\"},\"id\":\"1334\",\"type\":\"MercatorTicker\"},{\"attributes\":{\"below\":[{\"id\":\"1311\"}],\"center\":[{\"id\":\"1314\"},{\"id\":\"1318\"}],\"height\":300,\"left\":[{\"id\":\"1315\"}],\"margin\":[5,5,5,5],\"min_border_bottom\":10,\"min_border_left\":10,\"min_border_right\":10,\"min_border_top\":10,\"renderers\":[{\"id\":\"1353\"},{\"id\":\"1363\"}],\"sizing_mode\":\"fixed\",\"title\":{\"id\":\"1303\"},\"toolbar\":{\"id\":\"1323\"},\"width\":700,\"x_range\":{\"id\":\"1295\"},\"x_scale\":{\"id\":\"1307\"},\"y_range\":{\"id\":\"1296\"},\"y_scale\":{\"id\":\"1309\"}},\"id\":\"1302\",\"subtype\":\"Figure\",\"type\":\"Plot\"},{\"attributes\":{\"dimension\":\"lon\"},\"id\":\"1332\",\"type\":\"MercatorTicker\"},{\"attributes\":{\"level\":\"underlay\",\"tile_source\":{\"id\":\"1350\"}},\"id\":\"1353\",\"type\":\"TileRenderer\"},{\"attributes\":{\"end\":4736614.64104295,\"min_interval\":5,\"reset_end\":4736614.64104295,\"reset_start\":4724621.760905832,\"start\":4724621.760905832,\"tags\":[[[\"Latitude\",\"Latitude\",null]]]},\"id\":\"1296\",\"type\":\"Range1d\"},{\"attributes\":{\"bottom_units\":\"screen\",\"fill_alpha\":0.5,\"fill_color\":\"lightgrey\",\"left_units\":\"screen\",\"level\":\"overlay\",\"line_alpha\":1.0,\"line_color\":\"black\",\"line_dash\":[4,4],\"line_width\":2,\"right_units\":\"screen\",\"syncable\":false,\"top_units\":\"screen\"},\"id\":\"1322\",\"type\":\"BoxAnnotation\"},{\"attributes\":{\"end\":-12008561.225657908,\"min_interval\":5,\"reset_end\":-12008561.225657908,\"reset_start\":-12048458.360561116,\"start\":-12048458.360561116,\"tags\":[[[\"Longitude\",\"Longitude\",null]]]},\"id\":\"1295\",\"type\":\"Range1d\"},{\"attributes\":{\"source\":{\"id\":\"1357\"}},\"id\":\"1364\",\"type\":\"CDSView\"},{\"attributes\":{\"attribution\":\"&copy; <a href=\\\"http://downloads.esri.com/ArcGISOnline/docs/tou_summary.pdf\\\">Esri</a>, Earthstar Geographics\",\"url\":\"https://server.arcgisonline.com/ArcGIS/rest/services/World_Imagery/MapServer/tile/{Z}/{Y}/{X}.jpg\"},\"id\":\"1350\",\"type\":\"WMTSTileSource\"},{\"attributes\":{\"match_aspect\":true,\"overlay\":{\"id\":\"1322\"}},\"id\":\"1298\",\"type\":\"BoxZoomTool\"},{\"attributes\":{\"text_color\":\"black\",\"text_font_size\":\"12pt\"},\"id\":\"1303\",\"type\":\"Title\"},{\"attributes\":{\"zoom_on_axis\":false},\"id\":\"1297\",\"type\":\"WheelZoomTool\"},{\"attributes\":{\"callback\":null,\"renderers\":[{\"id\":\"1363\"}],\"tags\":[\"hv_created\"],\"tooltips\":[[\"x\",\"@{x}\"],[\"y\",\"@{y}\"],[\"index\",\"@{index}\"],[\"siteName\",\"@{siteName}\"]]},\"id\":\"1299\",\"type\":\"HoverTool\"},{\"attributes\":{\"axis_label\":\"Longitude\",\"formatter\":{\"id\":\"1333\"},\"major_label_policy\":{\"id\":\"1338\"},\"ticker\":{\"id\":\"1332\"}},\"id\":\"1311\",\"type\":\"LinearAxis\"},{\"attributes\":{\"fill_color\":{\"value\":\"#30a2da\"},\"line_color\":{\"value\":\"#30a2da\"},\"size\":{\"value\":5.477225575051661},\"x\":{\"field\":\"x\"},\"y\":{\"field\":\"y\"}},\"id\":\"1360\",\"type\":\"Scatter\"},{\"attributes\":{},\"id\":\"1309\",\"type\":\"LinearScale\"},{\"attributes\":{\"axis\":{\"id\":\"1311\"},\"grid_line_color\":null,\"ticker\":null},\"id\":\"1314\",\"type\":\"Grid\"},{\"attributes\":{\"data\":{\"index\":[0,1,2,3,4],\"siteName\":[\"LSOS\",\"Mesa East\",\"Mesa West\",\"Mesa Middle\",\"Skyway\"],\"x\":{\"__ndarray__\":\"5Fl/lPXzZsGWG5oDU+hmwdAyKG9E+mbByLzVpXjrZsFMZxIJ+vFmwQ==\",\"dtype\":\"float64\",\"order\":\"little\",\"shape\":[5]},\"y\":{\"__ndarray__\":\"nCTcmW8JUkF11f/OnxBSQe6xuUrdBlJB+QCXeKgHUkFn0tYiPQlSQQ==\",\"dtype\":\"float64\",\"order\":\"little\",\"shape\":[5]}},\"selected\":{\"id\":\"1358\"},\"selection_policy\":{\"id\":\"1371\"}},\"id\":\"1357\",\"type\":\"ColumnDataSource\"},{\"attributes\":{},\"id\":\"1307\",\"type\":\"LinearScale\"},{\"attributes\":{\"angle\":{\"value\":0.0},\"fill_alpha\":{\"value\":1.0},\"fill_color\":{\"value\":\"#30a2da\"},\"hatch_alpha\":{\"value\":1.0},\"hatch_color\":{\"value\":\"black\"},\"hatch_scale\":{\"value\":12.0},\"hatch_weight\":{\"value\":1.0},\"line_alpha\":{\"value\":1.0},\"line_cap\":{\"value\":\"butt\"},\"line_color\":{\"value\":\"#30a2da\"},\"line_dash\":{\"value\":[]},\"line_dash_offset\":{\"value\":0},\"line_join\":{\"value\":\"bevel\"},\"line_width\":{\"value\":1},\"marker\":{\"value\":\"circle\"},\"size\":{\"value\":5.477225575051661},\"x\":{\"field\":\"x\"},\"y\":{\"field\":\"y\"}},\"id\":\"1365\",\"type\":\"Scatter\"},{\"attributes\":{\"data_source\":{\"id\":\"1357\"},\"glyph\":{\"id\":\"1360\"},\"hover_glyph\":null,\"muted_glyph\":{\"id\":\"1362\"},\"nonselection_glyph\":{\"id\":\"1361\"},\"selection_glyph\":{\"id\":\"1365\"},\"view\":{\"id\":\"1364\"}},\"id\":\"1363\",\"type\":\"GlyphRenderer\"},{\"attributes\":{\"axis_label\":\"Latitude\",\"formatter\":{\"id\":\"1335\"},\"major_label_policy\":{\"id\":\"1345\"},\"ticker\":{\"id\":\"1334\"}},\"id\":\"1315\",\"type\":\"LinearAxis\"},{\"attributes\":{\"fill_alpha\":{\"value\":0.1},\"fill_color\":{\"value\":\"#30a2da\"},\"line_alpha\":{\"value\":0.1},\"line_color\":{\"value\":\"#30a2da\"},\"size\":{\"value\":5.477225575051661},\"x\":{\"field\":\"x\"},\"y\":{\"field\":\"y\"}},\"id\":\"1361\",\"type\":\"Scatter\"},{\"attributes\":{\"axis\":{\"id\":\"1315\"},\"dimension\":1,\"grid_line_color\":null,\"ticker\":null},\"id\":\"1318\",\"type\":\"Grid\"},{\"attributes\":{},\"id\":\"1358\",\"type\":\"Selection\"},{\"attributes\":{\"margin\":[5,5,5,5],\"name\":\"HSpacer03621\",\"sizing_mode\":\"stretch_width\"},\"id\":\"1420\",\"type\":\"Spacer\"}],\"root_ids\":[\"1289\"]},\"title\":\"Bokeh Application\",\"version\":\"2.3.2\"}};\n",
       "    var render_items = [{\"docid\":\"13fd1cfe-8566-4581-9d0b-4bb39aca48d9\",\"root_ids\":[\"1289\"],\"roots\":{\"1289\":\"856852fb-8f98-4416-89a4-cf6542ab04cf\"}}];\n",
       "    root.Bokeh.embed.embed_items_notebook(docs_json, render_items);\n",
       "  }\n",
       "  if (root.Bokeh !== undefined && root.Bokeh.Panel !== undefined) {\n",
       "    embed_document(root);\n",
       "  } else {\n",
       "    var attempts = 0;\n",
       "    var timer = setInterval(function(root) {\n",
       "      if (root.Bokeh !== undefined && root.Bokeh.Panel !== undefined) {\n",
       "        clearInterval(timer);\n",
       "        embed_document(root);\n",
       "      } else if (document.readyState == \"complete\") {\n",
       "        attempts++;\n",
       "        if (attempts > 100) {\n",
       "          clearInterval(timer);\n",
       "          console.log(\"Bokeh: ERROR: Unable to run BokehJS code because BokehJS library is missing\");\n",
       "        }\n",
       "      }\n",
       "    }, 10, root)\n",
       "  }\n",
       "})(window);</script>"
      ],
      "text/plain": [
       ":Overlay\n",
       "   .WMTS.I   :WMTS   [Longitude,Latitude]\n",
       "   .Points.I :Points   [x,y]   (index,siteName)"
      ]
     },
     "execution_count": 68,
     "metadata": {
      "application/vnd.holoviews_exec.v0+json": {
       "id": "1289"
      }
     },
     "output_type": "execute_result"
    }
   ],
   "source": [
    "import hvplot.pandas\n",
    "from geoviews import tile_sources as gvts\n",
    "#met_sites_gdf.hvplot(hover_cols=['index','name'])\n",
    "map_tiles = gvts.EsriImagery\n",
    "map_tiles * met_sites_gdf.to_crs('EPSG:3857').hvplot(hover_cols=['index','siteName'])"
   ]
  },
  {
   "cell_type": "markdown",
   "id": "invalid-madagascar",
   "metadata": {},
   "source": []
  },
  {
   "cell_type": "code",
   "execution_count": null,
   "id": "crazy-postcard",
   "metadata": {},
   "outputs": [],
   "source": []
  }
 ],
 "metadata": {
  "kernelspec": {
   "display_name": "Python 3",
   "language": "python",
   "name": "python3"
  },
  "language_info": {
   "codemirror_mode": {
    "name": "ipython",
    "version": 3
   },
   "file_extension": ".py",
   "mimetype": "text/x-python",
   "name": "python",
   "nbconvert_exporter": "python",
   "pygments_lexer": "ipython3",
   "version": "3.8.8"
  }
 },
 "nbformat": 4,
 "nbformat_minor": 5
}
