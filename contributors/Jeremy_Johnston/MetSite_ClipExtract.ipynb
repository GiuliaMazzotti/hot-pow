{
 "cells": [
  {
   "cell_type": "markdown",
   "id": "activated-pointer",
   "metadata": {},
   "source": [
    "# Accessing non-SNOTEL met site data from the SnowEx period"
   ]
  },
  {
   "cell_type": "markdown",
   "id": "completed-andrew",
   "metadata": {},
   "source": [
    "## imports"
   ]
  },
  {
   "cell_type": "code",
   "execution_count": 2,
   "id": "quiet-extreme",
   "metadata": {},
   "outputs": [],
   "source": [
    "%%capture\n",
    "!pip install git+https://github.com/friedrichknuth/driveanon.git\n",
    "    \n",
    "import driveanon\n",
    "import pandas as pd\n",
    "import matplotlib.pyplot as plt\n",
    "import datetime"
   ]
  },
  {
   "cell_type": "markdown",
   "id": "amateur-directory",
   "metadata": {},
   "source": [
    "## load in datasets, format, and append to single dataframe"
   ]
  },
  {
   "cell_type": "code",
   "execution_count": 4,
   "id": "loaded-prototype",
   "metadata": {},
   "outputs": [],
   "source": [
    "#for accessing google drive data, blob ids and downloading\n",
    "blob_ids = ['1Ioh1huZZpIJLRtoyGvWZfvJkaSQh0-QS', #to get site locations\n",
    "            '1YT9bNveID55Lo5j4upMGrA7vEl5FWXp_', #Mesa West .csv\n",
    "            '1v2zUMtjBSohk0OX6WCirZYkddysLiZY7', #GMSP .csv\n",
    "            '1cwIsJQ5kCVcHpw6pRgywf6TKsmeg2RZC' #Mesa East .csv\n",
    "            ] \n",
    "            #'', \n",
    "            #'' ] #Mesa Middle .csv\n",
    "    \n",
    "for blob_id in blob_ids:\n",
    "    f = driveanon.save(blob_id)"
   ]
  },
  {
   "cell_type": "code",
   "execution_count": 5,
   "id": "chinese-tonight",
   "metadata": {},
   "outputs": [
    {
     "name": "stderr",
     "output_type": "stream",
     "text": [
      "/srv/conda/envs/notebook/lib/python3.8/site-packages/IPython/core/interactiveshell.py:3155: DtypeWarning: Columns (8,9,10,11,12,13,14,15,16,17,18,19,20,21,22,23,25,26,27,28,29,30,31,32,33,34,35,36,37,38,39,40,41,42,43,44,45,46,47,48,49,50,51,52,53,54,55) have mixed types.Specify dtype option on import or set low_memory=False.\n",
      "  has_raised = await self.run_ast_nodes(code_ast.body, cell_name,\n",
      "/srv/conda/envs/notebook/lib/python3.8/site-packages/IPython/core/interactiveshell.py:3155: DtypeWarning: Columns (140,141,142,143) have mixed types.Specify dtype option on import or set low_memory=False.\n",
      "  has_raised = await self.run_ast_nodes(code_ast.body, cell_name,\n",
      "/srv/conda/envs/notebook/lib/python3.8/site-packages/IPython/core/interactiveshell.py:3155: DtypeWarning: Columns (11,22,23,24,25,30,31,32,33,34,35,36,37,38,39,40,41,42,43,44,45,46,47,48,49,50,51,52,53,54,55,56,57,58,59,60,61,62,63,64,65,66,67,68,69,70,71,72,73,74,75,76,77,78,79,80,81,82,83,84,85,86,87) have mixed types.Specify dtype option on import or set low_memory=False.\n",
      "  has_raised = await self.run_ast_nodes(code_ast.body, cell_name,\n"
     ]
    },
    {
     "data": {
      "text/plain": [
       "(29934, 14)"
      ]
     },
     "execution_count": 5,
     "metadata": {},
     "output_type": "execute_result"
    }
   ],
   "source": [
    "#load in csv files and trim to relevant variables\n",
    "files = ['MW-V7_clean.csv','GMSP-V2.csv','ME-V3.csv']\n",
    "cols = ['station_id','Datetime_UTC','latitude','longitude','AirTC_10ft_Avg_C','IRtarget_nadir2_C_Avg','SnowDepth_m',\n",
    "        'TCstringC_s50cm_Avg','TCstringC_s10cm_Avg','TCstringC_0cm_Avg',\n",
    "        'TCstringC_10cm_Avg','TCstringC_50cm_Avg','TCstringC_100cm_Avg',\n",
    "        'TCstringC_200cm_Avg'];\n",
    "\n",
    "#date range for trimming\n",
    "start_date = datetime.datetime(2020,1,1,0,0)\n",
    "end_date = datetime.datetime(2020,3,31,23,59)\n",
    "\n",
    "DF = pd.DataFrame(columns=cols)\n",
    "for file in files:\n",
    "    station = file[:-4]\n",
    "    \n",
    "    #hard coded this in cause I ran out of patience\n",
    "    if station[:2] == 'GM':\n",
    "        lat = 39.05084\n",
    "        lon = -108.06144\n",
    "    elif station[:2] == 'MM':\n",
    "        lat = 39.03954\n",
    "        lon = -107.94174\n",
    "    elif station[:2] == 'ME':\n",
    "        lat = 39.10358\n",
    "        lon = -107.88383\n",
    "    elif station[:2] == 'MW':\n",
    "        lat = 39.03388\n",
    "        lon = -108.21399\n",
    "        \n",
    "    df = pd.read_csv('./'+file)\n",
    "    \n",
    "    #converts any NAN text to NaN and numeric columns (fixes error raised)\n",
    "    for (columnName, columnData) in df.iteritems():\n",
    "        df[columnName] = pd.to_numeric(df[columnName],errors='coerce')\n",
    "    \n",
    "    #create and add site column\n",
    "    df.insert(0,'station_id',station)\n",
    "    \n",
    "    #add \n",
    "    df.insert(1, 'latitude', lat)\n",
    "    df.insert(2, 'longitude', lon)\n",
    "    \n",
    "    #create and add datetime column\n",
    "    full_dates = pd.to_datetime(dict(year=df['Year'], month=df['Month'], day=df['Day'], hour = df['Hour'], minute = df['Minute']))\n",
    "    df.insert(3, 'Datetime_UTC', full_dates)\n",
    "    \n",
    "    #trim to study period (January - March 2020)\n",
    "    mask = (df['Datetime_UTC'] > start_date) & (df['Datetime_UTC'] <= end_date)\n",
    "    df = df.loc[mask]\n",
    "    \n",
    "    #trim to necessary columns\n",
    "    df = df[cols]\n",
    "    \n",
    "    #append data frame\n",
    "    DF = DF.append(df, ignore_index=True)\n",
    "    \n",
    "DF.shape"
   ]
  },
  {
   "cell_type": "code",
   "execution_count": 7,
   "id": "compact-cemetery",
   "metadata": {},
   "outputs": [
    {
     "data": {
      "text/html": [
       "<div>\n",
       "<style scoped>\n",
       "    .dataframe tbody tr th:only-of-type {\n",
       "        vertical-align: middle;\n",
       "    }\n",
       "\n",
       "    .dataframe tbody tr th {\n",
       "        vertical-align: top;\n",
       "    }\n",
       "\n",
       "    .dataframe thead th {\n",
       "        text-align: right;\n",
       "    }\n",
       "</style>\n",
       "<table border=\"1\" class=\"dataframe\">\n",
       "  <thead>\n",
       "    <tr style=\"text-align: right;\">\n",
       "      <th></th>\n",
       "      <th>station_id</th>\n",
       "      <th>Datetime_UTC</th>\n",
       "      <th>latitude</th>\n",
       "      <th>longitude</th>\n",
       "      <th>AirTC_10ft_Avg_C</th>\n",
       "      <th>IRtarget_nadir2_C_Avg</th>\n",
       "      <th>SnowDepth_m</th>\n",
       "      <th>TCstringC_s50cm_Avg</th>\n",
       "      <th>TCstringC_s10cm_Avg</th>\n",
       "      <th>TCstringC_0cm_Avg</th>\n",
       "      <th>TCstringC_10cm_Avg</th>\n",
       "      <th>TCstringC_50cm_Avg</th>\n",
       "      <th>TCstringC_100cm_Avg</th>\n",
       "      <th>TCstringC_200cm_Avg</th>\n",
       "    </tr>\n",
       "  </thead>\n",
       "  <tbody>\n",
       "    <tr>\n",
       "      <th>29931</th>\n",
       "      <td>ME-V3</td>\n",
       "      <td>2020-03-31 22:20:00</td>\n",
       "      <td>39.10358</td>\n",
       "      <td>-107.88383</td>\n",
       "      <td>3.290</td>\n",
       "      <td>6.250</td>\n",
       "      <td>NaN</td>\n",
       "      <td>0.737</td>\n",
       "      <td>0.080</td>\n",
       "      <td>-0.124</td>\n",
       "      <td>-0.306</td>\n",
       "      <td>-1.114</td>\n",
       "      <td>-1.445</td>\n",
       "      <td>3.751</td>\n",
       "    </tr>\n",
       "    <tr>\n",
       "      <th>29932</th>\n",
       "      <td>ME-V3</td>\n",
       "      <td>2020-03-31 23:00:00</td>\n",
       "      <td>39.10358</td>\n",
       "      <td>-107.88383</td>\n",
       "      <td>3.893</td>\n",
       "      <td>5.684</td>\n",
       "      <td>NaN</td>\n",
       "      <td>0.717</td>\n",
       "      <td>0.077</td>\n",
       "      <td>-0.113</td>\n",
       "      <td>-0.253</td>\n",
       "      <td>-1.108</td>\n",
       "      <td>-1.528</td>\n",
       "      <td>4.337</td>\n",
       "    </tr>\n",
       "    <tr>\n",
       "      <th>29933</th>\n",
       "      <td>ME-V3</td>\n",
       "      <td>2020-03-31 23:30:00</td>\n",
       "      <td>39.10358</td>\n",
       "      <td>-107.88383</td>\n",
       "      <td>3.796</td>\n",
       "      <td>5.121</td>\n",
       "      <td>NaN</td>\n",
       "      <td>0.722</td>\n",
       "      <td>0.070</td>\n",
       "      <td>-0.136</td>\n",
       "      <td>-0.316</td>\n",
       "      <td>-1.137</td>\n",
       "      <td>-1.635</td>\n",
       "      <td>4.280</td>\n",
       "    </tr>\n",
       "  </tbody>\n",
       "</table>\n",
       "</div>"
      ],
      "text/plain": [
       "      station_id        Datetime_UTC  latitude  longitude  AirTC_10ft_Avg_C  \\\n",
       "29931      ME-V3 2020-03-31 22:20:00  39.10358 -107.88383             3.290   \n",
       "29932      ME-V3 2020-03-31 23:00:00  39.10358 -107.88383             3.893   \n",
       "29933      ME-V3 2020-03-31 23:30:00  39.10358 -107.88383             3.796   \n",
       "\n",
       "       IRtarget_nadir2_C_Avg  SnowDepth_m  TCstringC_s50cm_Avg  \\\n",
       "29931                  6.250          NaN                0.737   \n",
       "29932                  5.684          NaN                0.717   \n",
       "29933                  5.121          NaN                0.722   \n",
       "\n",
       "       TCstringC_s10cm_Avg  TCstringC_0cm_Avg  TCstringC_10cm_Avg  \\\n",
       "29931                0.080             -0.124              -0.306   \n",
       "29932                0.077             -0.113              -0.253   \n",
       "29933                0.070             -0.136              -0.316   \n",
       "\n",
       "       TCstringC_50cm_Avg  TCstringC_100cm_Avg  TCstringC_200cm_Avg  \n",
       "29931              -1.114               -1.445                3.751  \n",
       "29932              -1.108               -1.528                4.337  \n",
       "29933              -1.137               -1.635                4.280  "
      ]
     },
     "execution_count": 7,
     "metadata": {},
     "output_type": "execute_result"
    }
   ],
   "source": [
    "DF.tail(3)"
   ]
  },
  {
   "cell_type": "markdown",
   "id": "invalid-defendant",
   "metadata": {},
   "source": [
    "## Use DF dataframe to add sites to plot (3 unique sites), and add to ERA comparison plots"
   ]
  },
  {
   "cell_type": "markdown",
   "id": "remarkable-recognition",
   "metadata": {},
   "source": []
  },
  {
   "cell_type": "code",
   "execution_count": null,
   "id": "rubber-chile",
   "metadata": {},
   "outputs": [],
   "source": []
  },
  {
   "cell_type": "code",
   "execution_count": null,
   "id": "administrative-flash",
   "metadata": {},
   "outputs": [],
   "source": []
  },
  {
   "cell_type": "code",
   "execution_count": null,
   "id": "noble-wisconsin",
   "metadata": {},
   "outputs": [],
   "source": []
  },
  {
   "cell_type": "code",
   "execution_count": null,
   "id": "precise-vaccine",
   "metadata": {},
   "outputs": [],
   "source": []
  },
  {
   "cell_type": "code",
   "execution_count": null,
   "id": "aware-gateway",
   "metadata": {},
   "outputs": [],
   "source": []
  }
 ],
 "metadata": {
  "kernelspec": {
   "display_name": "Python 3",
   "language": "python",
   "name": "python3"
  },
  "language_info": {
   "codemirror_mode": {
    "name": "ipython",
    "version": 3
   },
   "file_extension": ".py",
   "mimetype": "text/x-python",
   "name": "python",
   "nbconvert_exporter": "python",
   "pygments_lexer": "ipython3",
   "version": "3.8.8"
  }
 },
 "nbformat": 4,
 "nbformat_minor": 5
}
