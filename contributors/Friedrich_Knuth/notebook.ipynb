{
 "cells": [
  {
   "cell_type": "markdown",
   "id": "immediate-aurora",
   "metadata": {},
   "source": [
    "## Download data from Google Drive\n",
    "#### Install `driveanon` package\n",
    "The `%%capture` comand hides the printed text.  \n",
    "You can comment this out to see the output from pip. "
   ]
  },
  {
   "cell_type": "code",
   "execution_count": 1,
   "id": "significant-declaration",
   "metadata": {},
   "outputs": [],
   "source": [
    "%%capture\n",
    "!pip install git+https://github.com/friedrichknuth/driveanon.git"
   ]
  },
  {
   "cell_type": "code",
   "execution_count": 2,
   "id": "impressed-candidate",
   "metadata": {},
   "outputs": [],
   "source": [
    "import driveanon"
   ]
  },
  {
   "cell_type": "markdown",
   "id": "nearby-batman",
   "metadata": {},
   "source": [
    "#### Check folder content\n",
    "This is the url to our Google Drive data directory called ASO_LiDAR_TIFs  \n",
    "https://drive.google.com/drive/folders/18RBI_SmsowSNbZnmtP2S-xWeWEId7-bm?usp=sharing  \n",
    "Notice the random string of characters that we will call the `folder_blob_id`  "
   ]
  },
  {
   "cell_type": "code",
   "execution_count": 23,
   "id": "digital-timber",
   "metadata": {},
   "outputs": [],
   "source": [
    "folder_blob_id = '18RBI_SmsowSNbZnmtP2S-xWeWEId7-bm'\n",
    "file_names, file_blob_ids = driveanon.list_blobs(folder_blob_id,\n",
    "                                          '.tif',\n",
    "                                          )"
   ]
  },
  {
   "cell_type": "code",
   "execution_count": 28,
   "id": "opened-repository",
   "metadata": {},
   "outputs": [
    {
     "data": {
      "text/plain": [
       "['ASO_GrandMesa_Mosaic_2020Feb1-2_dtmvf_mos_3m.tif',\n",
       " 'ASO_GrandMesa_Mosaic_2020Feb1-2_fsrdemvf_mos_3m.tif',\n",
       " 'ASO_snowfree_GrandMesa_2016Sep26_dtmvf_mos_3m.tif',\n",
       " 'ASO_snowfree_GrandMesa_2016Sep26_fsrdemvf_mos_3m.tif']"
      ]
     },
     "execution_count": 28,
     "metadata": {},
     "output_type": "execute_result"
    }
   ],
   "source": [
    "file_names"
   ]
  },
  {
   "cell_type": "code",
   "execution_count": 29,
   "id": "optional-parts",
   "metadata": {},
   "outputs": [
    {
     "data": {
      "text/plain": [
       "['1Dgy2hOkUPZjbtEDiS6imnHAZg0IFR5Zy',\n",
       " '1YnZDpGMpn_dd7XYMoQ4T6PdFR_1TJAV6',\n",
       " '1EeGyUG7dSH5AGa6WzFmKGZ6YhkxDmYRP',\n",
       " '12jhMafrXHnoD3YLWtQRPWMSIi2an9kEz']"
      ]
     },
     "execution_count": 29,
     "metadata": {},
     "output_type": "execute_result"
    }
   ],
   "source": [
    "file_blob_ids"
   ]
  },
  {
   "cell_type": "markdown",
   "id": "loved-rapid",
   "metadata": {},
   "source": [
    "#### Save files to disk\n",
    "Next let's iterate over the `file_names` list and use driveanon to save the files to disk."
   ]
  },
  {
   "cell_type": "code",
   "execution_count": 26,
   "id": "encouraging-today",
   "metadata": {},
   "outputs": [],
   "source": [
    "for blob_id in file_blob_ids:\n",
    "    driveanon.save(blob_id)"
   ]
  },
  {
   "cell_type": "markdown",
   "id": "current-engineer",
   "metadata": {},
   "source": [
    "#### Let's see what we got."
   ]
  },
  {
   "cell_type": "code",
   "execution_count": 27,
   "id": "documentary-tongue",
   "metadata": {},
   "outputs": [
    {
     "name": "stdout",
     "output_type": "stream",
     "text": [
      "total 417748\n",
      "drwxrwsr-x  3 jovyan users      4096 Jul 13 22:34 .\n",
      "drwxrwsr-x 10 jovyan users      4096 Jul 13 16:53 ..\n",
      "-rw-r--r--  1 jovyan users 106934192 Jul 13 22:15 ASO_GrandMesa_Mosaic_2020Feb1-2_dtmvf_mos_3m.tif\n",
      "-rw-r--r--  1 jovyan users 106934192 Jul 13 22:15 ASO_GrandMesa_Mosaic_2020Feb1-2_fsrdemvf_mos_3m.tif\n",
      "-rw-r--r--  1 jovyan users 106941102 Jul 13 22:15 ASO_snowfree_GrandMesa_2016Sep26_dtmvf_mos_3m.tif\n",
      "-rw-r--r--  1 jovyan users 106941102 Jul 13 22:15 ASO_snowfree_GrandMesa_2016Sep26_fsrdemvf_mos_3m.tif\n",
      "drwxr-sr-x  2 jovyan users      4096 Jul 13 21:46 .ipynb_checkpoints\n",
      "-rw-r--r--  1 jovyan users       249 Jul 13 21:47 notes.txt\n",
      "-rw-r--r--  1 jovyan users      2454 Jul 13 22:34 pulling_in_data_from_google_drive.ipynb\n"
     ]
    }
   ],
   "source": [
    "! ls -al"
   ]
  },
  {
   "cell_type": "markdown",
   "id": "based-exploration",
   "metadata": {},
   "source": [
    "#### Create data directory and move files there"
   ]
  },
  {
   "cell_type": "code",
   "execution_count": 30,
   "id": "southern-course",
   "metadata": {},
   "outputs": [],
   "source": [
    "! mkdir data"
   ]
  },
  {
   "cell_type": "code",
   "execution_count": 31,
   "id": "ignored-cemetery",
   "metadata": {},
   "outputs": [],
   "source": [
    "! mv ASO*.tif data/"
   ]
  },
  {
   "cell_type": "code",
   "execution_count": 1,
   "id": "valid-repair",
   "metadata": {},
   "outputs": [
    {
     "name": "stdout",
     "output_type": "stream",
     "text": [
      "total 417736\n",
      "drwxrwsr-x 2 jovyan users      4096 Jul 13 22:35 .\n",
      "drwxrwsr-x 4 jovyan users      4096 Jul 14 04:24 ..\n",
      "-rw-rw-r-- 1 jovyan users 106934192 Jul 13 22:15 ASO_GrandMesa_Mosaic_2020Feb1-2_dtmvf_mos_3m.tif\n",
      "-rw-rw-r-- 1 jovyan users 106934192 Jul 13 22:15 ASO_GrandMesa_Mosaic_2020Feb1-2_fsrdemvf_mos_3m.tif\n",
      "-rw-rw-r-- 1 jovyan users 106941102 Jul 13 22:15 ASO_snowfree_GrandMesa_2016Sep26_dtmvf_mos_3m.tif\n",
      "-rw-rw-r-- 1 jovyan users 106941102 Jul 13 22:15 ASO_snowfree_GrandMesa_2016Sep26_fsrdemvf_mos_3m.tif\n"
     ]
    }
   ],
   "source": [
    "! ls -al data/"
   ]
  },
  {
   "cell_type": "markdown",
   "id": "mature-observation",
   "metadata": {},
   "source": [
    "## Data wrangling"
   ]
  },
  {
   "cell_type": "markdown",
   "id": "behavioral-spine",
   "metadata": {},
   "source": [
    "#### Inspect the metadata for the `tif` files"
   ]
  },
  {
   "cell_type": "code",
   "execution_count": 35,
   "id": "bigger-emergency",
   "metadata": {},
   "outputs": [
    {
     "name": "stdout",
     "output_type": "stream",
     "text": [
      "Driver: GTiff/GeoTIFF\n",
      "Files: data/ASO_snowfree_GrandMesa_2016Sep26_fsrdemvf_mos_3m.tif\n",
      "Size is 7576, 3528\n",
      "Coordinate System is:\n",
      "PROJCRS[\"WGS 84 / UTM zone 12N\",\n",
      "    BASEGEOGCRS[\"WGS 84\",\n",
      "        DATUM[\"World Geodetic System 1984\",\n",
      "            ELLIPSOID[\"WGS 84\",6378137,298.257223563,\n",
      "                LENGTHUNIT[\"metre\",1]]],\n",
      "        PRIMEM[\"Greenwich\",0,\n",
      "            ANGLEUNIT[\"degree\",0.0174532925199433]],\n",
      "        ID[\"EPSG\",4326]],\n",
      "    CONVERSION[\"UTM zone 12N\",\n",
      "        METHOD[\"Transverse Mercator\",\n",
      "            ID[\"EPSG\",9807]],\n",
      "        PARAMETER[\"Latitude of natural origin\",0,\n",
      "            ANGLEUNIT[\"degree\",0.0174532925199433],\n",
      "            ID[\"EPSG\",8801]],\n",
      "        PARAMETER[\"Longitude of natural origin\",-111,\n",
      "            ANGLEUNIT[\"degree\",0.0174532925199433],\n",
      "            ID[\"EPSG\",8802]],\n",
      "        PARAMETER[\"Scale factor at natural origin\",0.9996,\n",
      "            SCALEUNIT[\"unity\",1],\n",
      "            ID[\"EPSG\",8805]],\n",
      "        PARAMETER[\"False easting\",500000,\n",
      "            LENGTHUNIT[\"metre\",1],\n",
      "            ID[\"EPSG\",8806]],\n",
      "        PARAMETER[\"False northing\",0,\n",
      "            LENGTHUNIT[\"metre\",1],\n",
      "            ID[\"EPSG\",8807]]],\n",
      "    CS[Cartesian,2],\n",
      "        AXIS[\"(E)\",east,\n",
      "            ORDER[1],\n",
      "            LENGTHUNIT[\"metre\",1]],\n",
      "        AXIS[\"(N)\",north,\n",
      "            ORDER[2],\n",
      "            LENGTHUNIT[\"metre\",1]],\n",
      "    USAGE[\n",
      "        SCOPE[\"Engineering survey, topographic mapping.\"],\n",
      "        AREA[\"Between 114°W and 108°W, northern hemisphere between equator and 84°N, onshore and offshore. Canada - Alberta; Northwest Territories (NWT); Nunavut; Saskatchewan. Mexico. United States (USA).\"],\n",
      "        BBOX[0,-114,84,-108]],\n",
      "    ID[\"EPSG\",32612]]\n",
      "Data axis to CRS axis mapping: 1,2\n",
      "Origin = (737454.000000000000000,4330218.000000000000000)\n",
      "Pixel Size = (3.000000000000000,-3.000000000000000)\n",
      "Metadata:\n",
      "  AREA_OR_POINT=Area\n",
      "  TIFFTAG_XRESOLUTION=1\n",
      "  TIFFTAG_YRESOLUTION=1\n",
      "Image Structure Metadata:\n",
      "  INTERLEAVE=BAND\n",
      "Corner Coordinates:\n",
      "Upper Left  (  737454.000, 4330218.000) (108d15'16.41\"W, 39d 5'19.63\"N)\n",
      "Lower Left  (  737454.000, 4319634.000) (108d15'29.69\"W, 38d59'36.67\"N)\n",
      "Upper Right (  760182.000, 4330218.000) (107d59'31.56\"W, 39d 4'56.30\"N)\n",
      "Lower Right (  760182.000, 4319634.000) (107d59'46.10\"W, 38d59'13.42\"N)\n",
      "Center      (  748818.000, 4324926.000) (108d 7'30.91\"W, 39d 2'16.77\"N)\n",
      "Band 1 Block=7576x1 Type=Float32, ColorInterp=Gray\n"
     ]
    }
   ],
   "source": [
    "# ! gdalinfo data/ASO_GrandMesa_Mosaic_2020Feb1-2_dtmvf_mos_3m.tif\n",
    "# ! gdalinfo data/ASO_GrandMesa_Mosaic_2020Feb1-2_fsrdemvf_mos_3m.tif\n",
    "# ! gdalinfo data/ASO_snowfree_GrandMesa_2016Sep26_dtmvf_mos_3m.tif\n",
    "! gdalinfo data/ASO_snowfree_GrandMesa_2016Sep26_fsrdemvf_mos_3m.tif\n"
   ]
  },
  {
   "cell_type": "markdown",
   "id": "religious-international",
   "metadata": {},
   "source": [
    "#### Looks like these tif files do not have a no data value defined. Let's fix that. (I inspected the data array and see that the nodata value is -9999)"
   ]
  },
  {
   "cell_type": "code",
   "execution_count": 3,
   "id": "structured-penalty",
   "metadata": {},
   "outputs": [],
   "source": [
    "import glob"
   ]
  },
  {
   "cell_type": "code",
   "execution_count": 4,
   "id": "golden-supplement",
   "metadata": {},
   "outputs": [
    {
     "data": {
      "text/plain": [
       "['data/ASO_GrandMesa_Mosaic_2020Feb1-2_dtmvf_mos_3m.tif',\n",
       " 'data/ASO_GrandMesa_Mosaic_2020Feb1-2_fsrdemvf_mos_3m.tif',\n",
       " 'data/ASO_snowfree_GrandMesa_2016Sep26_dtmvf_mos_3m.tif',\n",
       " 'data/ASO_snowfree_GrandMesa_2016Sep26_fsrdemvf_mos_3m.tif']"
      ]
     },
     "execution_count": 4,
     "metadata": {},
     "output_type": "execute_result"
    }
   ],
   "source": [
    "tif_files = sorted(glob.glob('data/*.tif'))\n",
    "tif_files"
   ]
  },
  {
   "cell_type": "code",
   "execution_count": 5,
   "id": "cosmetic-lotus",
   "metadata": {},
   "outputs": [],
   "source": [
    "for file_name in tif_files:\n",
    "    ! gdal_edit.py -a_nodata -9999 {file_name}"
   ]
  },
  {
   "cell_type": "code",
   "execution_count": 6,
   "id": "involved-session",
   "metadata": {},
   "outputs": [
    {
     "name": "stdout",
     "output_type": "stream",
     "text": [
      "Driver: GTiff/GeoTIFF\n",
      "Files: data/ASO_snowfree_GrandMesa_2016Sep26_fsrdemvf_mos_3m.tif\n",
      "Size is 7576, 3528\n",
      "Coordinate System is:\n",
      "PROJCRS[\"WGS 84 / UTM zone 12N\",\n",
      "    BASEGEOGCRS[\"WGS 84\",\n",
      "        DATUM[\"World Geodetic System 1984\",\n",
      "            ELLIPSOID[\"WGS 84\",6378137,298.257223563,\n",
      "                LENGTHUNIT[\"metre\",1]]],\n",
      "        PRIMEM[\"Greenwich\",0,\n",
      "            ANGLEUNIT[\"degree\",0.0174532925199433]],\n",
      "        ID[\"EPSG\",4326]],\n",
      "    CONVERSION[\"UTM zone 12N\",\n",
      "        METHOD[\"Transverse Mercator\",\n",
      "            ID[\"EPSG\",9807]],\n",
      "        PARAMETER[\"Latitude of natural origin\",0,\n",
      "            ANGLEUNIT[\"degree\",0.0174532925199433],\n",
      "            ID[\"EPSG\",8801]],\n",
      "        PARAMETER[\"Longitude of natural origin\",-111,\n",
      "            ANGLEUNIT[\"degree\",0.0174532925199433],\n",
      "            ID[\"EPSG\",8802]],\n",
      "        PARAMETER[\"Scale factor at natural origin\",0.9996,\n",
      "            SCALEUNIT[\"unity\",1],\n",
      "            ID[\"EPSG\",8805]],\n",
      "        PARAMETER[\"False easting\",500000,\n",
      "            LENGTHUNIT[\"metre\",1],\n",
      "            ID[\"EPSG\",8806]],\n",
      "        PARAMETER[\"False northing\",0,\n",
      "            LENGTHUNIT[\"metre\",1],\n",
      "            ID[\"EPSG\",8807]]],\n",
      "    CS[Cartesian,2],\n",
      "        AXIS[\"(E)\",east,\n",
      "            ORDER[1],\n",
      "            LENGTHUNIT[\"metre\",1]],\n",
      "        AXIS[\"(N)\",north,\n",
      "            ORDER[2],\n",
      "            LENGTHUNIT[\"metre\",1]],\n",
      "    USAGE[\n",
      "        SCOPE[\"Engineering survey, topographic mapping.\"],\n",
      "        AREA[\"Between 114°W and 108°W, northern hemisphere between equator and 84°N, onshore and offshore. Canada - Alberta; Northwest Territories (NWT); Nunavut; Saskatchewan. Mexico. United States (USA).\"],\n",
      "        BBOX[0,-114,84,-108]],\n",
      "    ID[\"EPSG\",32612]]\n",
      "Data axis to CRS axis mapping: 1,2\n",
      "Origin = (737454.000000000000000,4330218.000000000000000)\n",
      "Pixel Size = (3.000000000000000,-3.000000000000000)\n",
      "Metadata:\n",
      "  AREA_OR_POINT=Area\n",
      "  TIFFTAG_XRESOLUTION=1\n",
      "  TIFFTAG_YRESOLUTION=1\n",
      "Image Structure Metadata:\n",
      "  INTERLEAVE=BAND\n",
      "Corner Coordinates:\n",
      "Upper Left  (  737454.000, 4330218.000) (108d15'16.41\"W, 39d 5'19.63\"N)\n",
      "Lower Left  (  737454.000, 4319634.000) (108d15'29.69\"W, 38d59'36.67\"N)\n",
      "Upper Right (  760182.000, 4330218.000) (107d59'31.56\"W, 39d 4'56.30\"N)\n",
      "Lower Right (  760182.000, 4319634.000) (107d59'46.10\"W, 38d59'13.42\"N)\n",
      "Center      (  748818.000, 4324926.000) (108d 7'30.91\"W, 39d 2'16.77\"N)\n",
      "Band 1 Block=7576x1 Type=Float32, ColorInterp=Gray\n",
      "  NoData Value=-9999\n"
     ]
    }
   ],
   "source": [
    "! gdalinfo data/ASO_snowfree_GrandMesa_2016Sep26_fsrdemvf_mos_3m.tif"
   ]
  },
  {
   "cell_type": "markdown",
   "id": "geographic-sally",
   "metadata": {},
   "source": [
    "#### That's better. The nodata value is now defined (see end of output above). We want to define this so that software like `rasterio` automatically knows which values to mask out when plotting."
   ]
  },
  {
   "cell_type": "markdown",
   "id": "unusual-retention",
   "metadata": {},
   "source": [
    "## Plotting"
   ]
  },
  {
   "cell_type": "code",
   "execution_count": 65,
   "id": "plain-income",
   "metadata": {},
   "outputs": [],
   "source": [
    "import os\n",
    "import rasterio\n",
    "from rasterio.plot import show\n",
    "import matplotlib.pyplot as plt\n",
    "import numpy as np"
   ]
  },
  {
   "cell_type": "markdown",
   "id": "british-currency",
   "metadata": {},
   "source": [
    "#### Read one of the raster files"
   ]
  },
  {
   "cell_type": "code",
   "execution_count": 63,
   "id": "stainless-arizona",
   "metadata": {},
   "outputs": [
    {
     "data": {
      "text/plain": [
       "['data/ASO_GrandMesa_Mosaic_2020Feb1-2_dtmvf_mos_3m.tif',\n",
       " 'data/ASO_GrandMesa_Mosaic_2020Feb1-2_fsrdemvf_mos_3m.tif',\n",
       " 'data/ASO_snowfree_GrandMesa_2016Sep26_dtmvf_mos_3m.tif',\n",
       " 'data/ASO_snowfree_GrandMesa_2016Sep26_fsrdemvf_mos_3m.tif']"
      ]
     },
     "execution_count": 63,
     "metadata": {},
     "output_type": "execute_result"
    }
   ],
   "source": [
    "tif_files"
   ]
  },
  {
   "cell_type": "code",
   "execution_count": 62,
   "id": "opening-business",
   "metadata": {},
   "outputs": [],
   "source": [
    "src = rasterio.open(tif_files[0],masked=True)\n",
    "# src = rasterio.open(tif_files[1],masked=True)\n",
    "# src = rasterio.open(tif_files[2],masked=True)\n",
    "# src = rasterio.open(tif_files[3],masked=True)"
   ]
  },
  {
   "cell_type": "markdown",
   "id": "ranking-truth",
   "metadata": {},
   "source": [
    "#### Check min and max value\n",
    "We want to know the min and max values in the raster array so that we can set the colorbar limits accordingly.   \n",
    "I am importing a custom function from my `tools.py` file in my directory.   \n",
    "The autoreload commands enable making changes to `tools.py` which will be automatically loaded into the running notebook, without restarting the notebook.   "
   ]
  },
  {
   "cell_type": "code",
   "execution_count": 53,
   "id": "familiar-special",
   "metadata": {},
   "outputs": [
    {
     "name": "stdout",
     "output_type": "stream",
     "text": [
      "The autoreload extension is already loaded. To reload it, use:\n",
      "  %reload_ext autoreload\n"
     ]
    }
   ],
   "source": [
    "%load_ext autoreload\n",
    "%autoreload 2"
   ]
  },
  {
   "cell_type": "code",
   "execution_count": 54,
   "id": "juvenile-practice",
   "metadata": {},
   "outputs": [],
   "source": [
    "import tools"
   ]
  },
  {
   "cell_type": "code",
   "execution_count": 55,
   "id": "hourly-mounting",
   "metadata": {},
   "outputs": [],
   "source": [
    "# read in data array\n",
    "array = src.read(1)\n",
    "# replace nodata value with nan\n",
    "array = tools.replace_and_fill_nodata_value(array, src.nodata, np.nan)\n"
   ]
  },
  {
   "cell_type": "code",
   "execution_count": 66,
   "id": "administrative-university",
   "metadata": {},
   "outputs": [
    {
     "name": "stdout",
     "output_type": "stream",
     "text": [
      "min elevation: 2684.06\n",
      "max elevation: 3303.0378\n"
     ]
    }
   ],
   "source": [
    "print('min elevation:', np.nanmin(array))\n",
    "print('max elevation:', np.nanmax(array))"
   ]
  },
  {
   "cell_type": "markdown",
   "id": "marked-princeton",
   "metadata": {},
   "source": [
    "#### Plot with `show` command and modify with `matplotlib`\n",
    "See list of matplotlib colormaps here https://matplotlib.org/stable/tutorials/colors/colormaps.html  "
   ]
  },
  {
   "cell_type": "code",
   "execution_count": 61,
   "id": "coupled-lobby",
   "metadata": {},
   "outputs": [
    {
     "data": {
      "image/png": "[encoded data removed]",
      "text/plain": [
       "<Figure size 720x360 with 2 Axes>"
      ]
     },
     "metadata": {
      "needs_background": "light"
     },
     "output_type": "display_data"
    }
   ],
   "source": [
    "cmap = 'viridis'\n",
    "vmin = np.nanmin(array)\n",
    "vmax = np.nanmax(array)\n",
    "\n",
    "fig,ax = plt.subplots(figsize=(10,5))\n",
    "\n",
    "show(src, \n",
    "     ax=ax,\n",
    "     cmap=cmap,\n",
    "     vmin = vmin,\n",
    "     vmax = vmax)\n",
    "\n",
    "sm = plt.cm.ScalarMappable(cmap=cmap,\n",
    "                               norm=plt.Normalize(vmin = vmin, \n",
    "                                                  vmax = vmax))\n",
    "cbar = fig.colorbar(sm, \n",
    "                    ax=ax,\n",
    "                    pad=0.01,\n",
    "                    extend='both',\n",
    "                    fraction=0.02)\n",
    "\n",
    "cbar.set_label(label='Elevation (m)')\n",
    "\n",
    "ax.set_xticks(())\n",
    "ax.set_yticks(())\n",
    "\n",
    "title = tif_files[0].split('/')[-1].split('.')[0]\n",
    "ax.set_title(title);"
   ]
  },
  {
   "cell_type": "markdown",
   "id": "excessive-brown",
   "metadata": {},
   "source": [
    "## Add basemap\n",
    "Use `contextily`"
   ]
  },
  {
   "cell_type": "code",
   "execution_count": null,
   "id": "cloudy-shoot",
   "metadata": {},
   "outputs": [],
   "source": []
  },
  {
   "cell_type": "markdown",
   "id": "nervous-workshop",
   "metadata": {},
   "source": [
    "## Difference with snow free DEM\n",
    "Use `rioxarray`"
   ]
  },
  {
   "cell_type": "code",
   "execution_count": null,
   "id": "graduate-lotus",
   "metadata": {},
   "outputs": [],
   "source": []
  },
  {
   "cell_type": "markdown",
   "id": "soviet-surveillance",
   "metadata": {},
   "source": [
    "## Pull in ERA5 data\n",
    "Date: February 8, 2020   \n",
    "Bounding box: [-108.34115668,   38.82320553, -107.72839859,   39.19563035]"
   ]
  },
  {
   "cell_type": "code",
   "execution_count": null,
   "id": "fluid-pledge",
   "metadata": {},
   "outputs": [],
   "source": []
  },
  {
   "cell_type": "code",
   "execution_count": null,
   "id": "induced-pasta",
   "metadata": {},
   "outputs": [],
   "source": []
  },
  {
   "cell_type": "code",
   "execution_count": null,
   "id": "separated-driving",
   "metadata": {},
   "outputs": [],
   "source": []
  }
 ],
 "metadata": {
  "kernelspec": {
   "display_name": "Python 3",
   "language": "python",
   "name": "python3"
  },
  "language_info": {
   "codemirror_mode": {
    "name": "ipython",
    "version": 3
   },
   "file_extension": ".py",
   "mimetype": "text/x-python",
   "name": "python",
   "nbconvert_exporter": "python",
   "pygments_lexer": "ipython3",
   "version": "3.8.8"
  }
 },
 "nbformat": 4,
 "nbformat_minor": 5
}
