{
 "cells": [
  {
   "cell_type": "markdown",
   "id": "protected-touch",
   "metadata": {},
   "source": [
    "#### Install `driveanon` package to pull in data from Google Drive\n",
    "The `%%capture` comand hides the printed text. You can comment this out to see the output from pip. "
   ]
  },
  {
   "cell_type": "code",
   "execution_count": 4,
   "id": "desperate-batch",
   "metadata": {},
   "outputs": [],
   "source": [
    "%%capture\n",
    "!pip install git+https://github.com/friedrichknuth/driveanon.git"
   ]
  },
  {
   "cell_type": "code",
   "execution_count": 11,
   "id": "educational-subcommittee",
   "metadata": {},
   "outputs": [],
   "source": [
    "import driveanon"
   ]
  },
  {
   "cell_type": "markdown",
   "id": "instant-thursday",
   "metadata": {},
   "source": [
    "This is the url to our Google Drive data directory called ASO_LiDAR_TIFs\n",
    "https://drive.google.com/drive/folders/18RBI_SmsowSNbZnmtP2S-xWeWEId7-bm?usp=sharing\n",
    "Notice the random string of characters that we will call the `folder_blob_id`"
   ]
  },
  {
   "cell_type": "code",
   "execution_count": 23,
   "id": "aboriginal-camel",
   "metadata": {},
   "outputs": [],
   "source": [
    "folder_blob_id = '18RBI_SmsowSNbZnmtP2S-xWeWEId7-bm'\n",
    "file_names, file_blob_ids = driveanon.list_blobs(folder_blob_id,\n",
    "                                          '.tif',\n",
    "                                          )"
   ]
  },
  {
   "cell_type": "code",
   "execution_count": 28,
   "id": "correct-change",
   "metadata": {},
   "outputs": [
    {
     "data": {
      "text/plain": [
       "['ASO_GrandMesa_Mosaic_2020Feb1-2_dtmvf_mos_3m.tif',\n",
       " 'ASO_GrandMesa_Mosaic_2020Feb1-2_fsrdemvf_mos_3m.tif',\n",
       " 'ASO_snowfree_GrandMesa_2016Sep26_dtmvf_mos_3m.tif',\n",
       " 'ASO_snowfree_GrandMesa_2016Sep26_fsrdemvf_mos_3m.tif']"
      ]
     },
     "execution_count": 28,
     "metadata": {},
     "output_type": "execute_result"
    }
   ],
   "source": [
    "file_names"
   ]
  },
  {
   "cell_type": "code",
   "execution_count": 29,
   "id": "possible-atlanta",
   "metadata": {},
   "outputs": [
    {
     "data": {
      "text/plain": [
       "['1Dgy2hOkUPZjbtEDiS6imnHAZg0IFR5Zy',\n",
       " '1YnZDpGMpn_dd7XYMoQ4T6PdFR_1TJAV6',\n",
       " '1EeGyUG7dSH5AGa6WzFmKGZ6YhkxDmYRP',\n",
       " '12jhMafrXHnoD3YLWtQRPWMSIi2an9kEz']"
      ]
     },
     "execution_count": 29,
     "metadata": {},
     "output_type": "execute_result"
    }
   ],
   "source": [
    "file_blob_ids"
   ]
  },
  {
   "cell_type": "code",
   "execution_count": 26,
   "id": "loving-cooling",
   "metadata": {},
   "outputs": [],
   "source": [
    "for blob_id in file_blob_ids:\n",
    "    driveanon.save(blob_id)"
   ]
  },
  {
   "cell_type": "code",
   "execution_count": 27,
   "id": "european-television",
   "metadata": {},
   "outputs": [
    {
     "name": "stdout",
     "output_type": "stream",
     "text": [
      "total 417748\n",
      "drwxrwsr-x  3 jovyan users      4096 Jul 13 22:34 .\n",
      "drwxrwsr-x 10 jovyan users      4096 Jul 13 16:53 ..\n",
      "-rw-r--r--  1 jovyan users 106934192 Jul 13 22:15 ASO_GrandMesa_Mosaic_2020Feb1-2_dtmvf_mos_3m.tif\n",
      "-rw-r--r--  1 jovyan users 106934192 Jul 13 22:15 ASO_GrandMesa_Mosaic_2020Feb1-2_fsrdemvf_mos_3m.tif\n",
      "-rw-r--r--  1 jovyan users 106941102 Jul 13 22:15 ASO_snowfree_GrandMesa_2016Sep26_dtmvf_mos_3m.tif\n",
      "-rw-r--r--  1 jovyan users 106941102 Jul 13 22:15 ASO_snowfree_GrandMesa_2016Sep26_fsrdemvf_mos_3m.tif\n",
      "drwxr-sr-x  2 jovyan users      4096 Jul 13 21:46 .ipynb_checkpoints\n",
      "-rw-r--r--  1 jovyan users       249 Jul 13 21:47 notes.txt\n",
      "-rw-r--r--  1 jovyan users      2454 Jul 13 22:34 pulling_in_data_from_google_drive.ipynb\n"
     ]
    }
   ],
   "source": [
    "! ls -al"
   ]
  },
  {
   "cell_type": "code",
   "execution_count": 30,
   "id": "radio-duration",
   "metadata": {},
   "outputs": [],
   "source": [
    "! mkdir data"
   ]
  },
  {
   "cell_type": "code",
   "execution_count": 31,
   "id": "equivalent-grammar",
   "metadata": {},
   "outputs": [],
   "source": [
    "!mv ASO*.tif data/"
   ]
  },
  {
   "cell_type": "code",
   "execution_count": 32,
   "id": "universal-fancy",
   "metadata": {},
   "outputs": [
    {
     "name": "stdout",
     "output_type": "stream",
     "text": [
      "total 24\n",
      "drwxrwsr-x  4 jovyan users 4096 Jul 13 22:35 .\n",
      "drwxrwsr-x 10 jovyan users 4096 Jul 13 16:53 ..\n",
      "drwxr-sr-x  2 jovyan users 4096 Jul 13 22:35 data\n",
      "drwxr-sr-x  2 jovyan users 4096 Jul 13 21:46 .ipynb_checkpoints\n",
      "-rw-r--r--  1 jovyan users  249 Jul 13 21:47 notes.txt\n",
      "-rw-r--r--  1 jovyan users 2454 Jul 13 22:34 pulling_in_data_from_google_drive.ipynb\n"
     ]
    }
   ],
   "source": [
    "! ls -al"
   ]
  },
  {
   "cell_type": "code",
   "execution_count": null,
   "id": "arctic-garbage",
   "metadata": {},
   "outputs": [],
   "source": []
  }
 ],
 "metadata": {
  "kernelspec": {
   "display_name": "Python 3",
   "language": "python",
   "name": "python3"
  },
  "language_info": {
   "codemirror_mode": {
    "name": "ipython",
    "version": 3
   },
   "file_extension": ".py",
   "mimetype": "text/x-python",
   "name": "python",
   "nbconvert_exporter": "python",
   "pygments_lexer": "ipython3",
   "version": "3.8.8"
  }
 },
 "nbformat": 4,
 "nbformat_minor": 5
}
