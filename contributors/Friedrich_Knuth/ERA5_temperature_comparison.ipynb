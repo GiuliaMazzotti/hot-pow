{
 "cells": [
  {
   "cell_type": "markdown",
   "id": "hydraulic-pipeline",
   "metadata": {},
   "source": [
    "## Pull in ERA5 data\n",
    "Date: February 8, 2020   \n",
    "Bounding box: [-108.34115668,   38.82320553, -107.72839859,   39.19563035]"
   ]
  },
  {
   "cell_type": "code",
   "execution_count": null,
   "id": "velvet-norway",
   "metadata": {},
   "outputs": [],
   "source": []
  }
 ],
 "metadata": {
  "kernelspec": {
   "display_name": "Python 3",
   "language": "python",
   "name": "python3"
  },
  "language_info": {
   "codemirror_mode": {
    "name": "ipython",
    "version": 3
   },
   "file_extension": ".py",
   "mimetype": "text/x-python",
   "name": "python",
   "nbconvert_exporter": "python",
   "pygments_lexer": "ipython3",
   "version": "3.8.8"
  }
 },
 "nbformat": 4,
 "nbformat_minor": 5
}
