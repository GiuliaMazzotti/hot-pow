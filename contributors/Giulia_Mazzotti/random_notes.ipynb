{
 "cells": [
  {
   "cell_type": "markdown",
   "id": "velvet-evidence",
   "metadata": {},
   "source": [
    "# Some useful hints that came up in the slack channel\n",
    "\n",
    "### Context manager \n",
    "The context manager is the part with `rasterio.open(path) as src:` Where src is like a variable holding the file that's been opened. And then outside of the with statement python knows to close the file. (so we don't have to do src.close()) If we didn't close the file it would sit in our computer's memory taking up space.\n",
    "\n",
    "More resources: https://realpython.com/python-with-statement/#using-the-python-with-statement\n",
    "\n",
    "### Plotting tricks  \n",
    "Notes on efficient resampling methods, while only loading in the data you need for a given view level: https://geoviews.org/user_guide/Resampling_Grids.html\n",
    "Example creating a time slider: https://nbviewer.jupyter.org/github/ICESAT-2HackWeek/Assimilation/blob/master/contributors/friedrichknuth/csnow.ipynb\n",
    "\n",
    "Cool interpolations: https://github.com/innolitics/natural-neighbor-interpolation\n",
    "\n",
    "### Data wrangling \n",
    "Making json polygons: https://geojson.io/#map=2/20.0/0.0\n",
    "Join and merge data frames: https://chrisalbon.com/code/python/data_wrangling/pandas_join_merge_dataframe/\n",
    "\n",
    "### Working with satellite data\n",
    "GOES (packages under development):\n",
    "https://github.com/palexandremello/goes-py\n",
    "https://github.com/spestana/goes-ortho\n",
    "\n",
    "### Python data formats \n",
    "Dictionary: Structure with key and value pairs; But Key could be another dictionary! -> confusing format"
   ]
  },
  {
   "cell_type": "markdown",
   "id": "prescribed-canon",
   "metadata": {},
   "source": [
    "## Some command help ##\n",
    "\n",
    "For getting a csv off google drive you don't actually need to download it with driveanon. You can just append the blob id to this string https://drive.google.com/uc?export=download&id= so something like the code below; \n",
    "\n",
    "More info: https://www.labnol.org/internet/direct-links-for-google-drive/28356/; https://pandas.pydata.org/pandas-docs/stable/reference/api/pandas.read_csv.html"
   ]
  },
  {
   "cell_type": "code",
   "execution_count": null,
   "id": "polar-restaurant",
   "metadata": {},
   "outputs": [],
   "source": [
    "import pandas as pd\n",
    "df = pd.read_csv('https://drive.google.com/uc?export=download&id=1Ioh1huZZpIJLRtoyGvWZfvJkaSQh0-QS')"
   ]
  },
  {
   "cell_type": "markdown",
   "id": "advance-music",
   "metadata": {},
   "source": [
    "# Stuff that other contributors have already accomplished \n",
    "\n",
    "### Zach & Jewell: \n",
    "Read in csv files with profile data and convert to geopandas dataframe\n",
    "\n"
   ]
  },
  {
   "cell_type": "markdown",
   "id": "secure-giving",
   "metadata": {},
   "source": [
    "### Friedrich: \n",
    "\n",
    "DEM differencing to get snow depths\n",
    "\n",
    "*Questions: 1. Autoreload function?*\n",
    "\n",
    "### Dillon: \n",
    "\n",
    "Pit explore script \n",
    "\n",
    "*Worked okay til I got to the airborne part*\n"
   ]
  },
  {
   "cell_type": "markdown",
   "id": "advance-yellow",
   "metadata": {},
   "source": [
    "### Steven: \n",
    "\n",
    "1. Netcdf plot\n",
    "\n",
    "*Q's: how does this invisible tmp storage work?*\n",
    "\n",
    "*what is the 'na' dimension in the example?*\n",
    "\n",
    "*why did you do all these data conversion steps in the netcdf?*"
   ]
  },
  {
   "cell_type": "markdown",
   "id": "congressional-raising",
   "metadata": {},
   "source": [
    "### Jeremy, Dillon: \n",
    "\n",
    "Haven't checked yet, but no one seems to have looked at Steven's data yet"
   ]
  },
  {
   "cell_type": "markdown",
   "id": "olive-locator",
   "metadata": {},
   "source": [
    "# General questions\n",
    "* Can I launch a notebook from the terminal?\n",
    "* How to continue using these tools once we no longer have the JupyterLab? Some guidance on how to set up an environment to continue using them?\n",
    "* Clear terminal commands (just for neater appearance?)"
   ]
  },
  {
   "cell_type": "markdown",
   "id": "sunset-admission",
   "metadata": {},
   "source": [
    "# Some hints on using JupyterNotebooks in the future"
   ]
  },
  {
   "cell_type": "markdown",
   "id": "enhanced-belgium",
   "metadata": {},
   "source": [
    "*Hannah, from David Shean class*: https://github.com/UW-GDA/gda_course_2021/blob/master/resources/conda.md \n",
    "\n",
    "*Steven & UW resources*: https://mountain-hydrology-research-group.github.io/data-analysis/resources/a-learning-python.html#setting-up-python-jupyter-notebook-on-your-own-computer\n",
    "\n",
    "*Joe & JupiterLab environment of hackweek*: https://github.com/snowex-hackweek/docker-image/blob/main/environment.yml\n",
    "\n",
    "*Dylan Boyd, general conda link*: https://www.anaconda.com/"
   ]
  },
  {
   "cell_type": "markdown",
   "id": "assured-night",
   "metadata": {},
   "source": [
    "### Open science session\n",
    "\n",
    "Check out cookiecutter\n",
    "\n",
    "Neet init file if you want to build packages\n",
    "\n",
    "SnowEx sql is on github! check it out (package)\n",
    "\n",
    "Package testing (in snowexsql): uses pytests\n",
    "\n",
    "E.g. test_parse_none --> check if all different ways of defining a NaN can be caught\n",
    "\n",
    "Joe: 'how to write good tests' is a needed skill of a developer and becoming a standard / increasingly valued --> way to get into code and also DOCUMENT code \n",
    "\n",
    "Jessica: All these tools are great but challenging to maintain --> but program managers are starting to understand how much time that work takes and to support it --> call it out!!\n",
    "\n",
    "Pangeo / discourse: similar to stack overflow, but high level and technical conversations about data science stuff (used e.g. by Icepix team)"
   ]
  },
  {
   "cell_type": "code",
   "execution_count": null,
   "id": "small-psychiatry",
   "metadata": {},
   "outputs": [],
   "source": []
  },
  {
   "cell_type": "code",
   "execution_count": null,
   "id": "foreign-china",
   "metadata": {},
   "outputs": [],
   "source": []
  }
 ],
 "metadata": {
  "kernelspec": {
   "display_name": "Python 3",
   "language": "python",
   "name": "python3"
  },
  "language_info": {
   "codemirror_mode": {
    "name": "ipython",
    "version": 3
   },
   "file_extension": ".py",
   "mimetype": "text/x-python",
   "name": "python",
   "nbconvert_exporter": "python",
   "pygments_lexer": "ipython3",
   "version": "3.8.8"
  }
 },
 "nbformat": 4,
 "nbformat_minor": 5
}
