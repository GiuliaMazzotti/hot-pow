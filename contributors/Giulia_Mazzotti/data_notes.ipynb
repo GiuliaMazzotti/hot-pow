{
 "cells": [
  {
   "cell_type": "markdown",
   "id": "color-prince",
   "metadata": {},
   "source": [
    "# Notes on the data shared by Hackweek participants\n",
    "\n",
    "*Megan Mason*: For any project groups looking to work with Time Series Snow Pit Data here are two slides to show where we have snow pit data from the 2020 campaign.  Time Series Snow Pit data followed the same pit protocol as the Grand Mesa IOP. I can elaborate as needed on any details concerning this data set.\n",
    "\n",
    "* Table 1. Time series location regions\n",
    "* Table 2. Unique snow pit sites within each region\n",
    "\n",
    "https://docs.google.com/presentation/d/1xqRVIBwVPA6dw5J3IFZpNJf_pnASHYON7lE4SuEvlNs/edit#slide=id.p"
   ]
  },
  {
   "cell_type": "markdown",
   "id": "weird-voice",
   "metadata": {},
   "source": [
    "*Steven to Amy Steiker / Steve Tanner*: Q: a lot of the snowex data on NSIDC right now are \"level 0\" raw data. what would it look like to create a \"level 1\" product that's gone through a QA/QC process or even a merger of multiple level 0 products; A: That's basically up to the PI's themselves.  As they produce and submit higher level products, we are publishing them.  That kind of higher-level production is not something the DAAC's themselves do. For SnowEx though, I think some of the \"Raw\" data is fairly well behaved, so you might want to take a look at those and see if they are useful in their current state. I should note that SnowEx PIs have been using \"Raw\" in a bit different sense than what NASA typically means by \"Level 0\", so don't equate the two terms relative to SnowEx products."
   ]
  },
  {
   "cell_type": "code",
   "execution_count": null,
   "id": "adjacent-ladder",
   "metadata": {},
   "outputs": [],
   "source": []
  }
 ],
 "metadata": {
  "kernelspec": {
   "display_name": "Python 3",
   "language": "python",
   "name": "python3"
  },
  "language_info": {
   "codemirror_mode": {
    "name": "ipython",
    "version": 3
   },
   "file_extension": ".py",
   "mimetype": "text/x-python",
   "name": "python",
   "nbconvert_exporter": "python",
   "pygments_lexer": "ipython3",
   "version": "3.8.8"
  }
 },
 "nbformat": 4,
 "nbformat_minor": 5
}
