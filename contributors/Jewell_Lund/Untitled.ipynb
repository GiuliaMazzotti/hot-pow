{
 "cells": [
  {
   "cell_type": "code",
   "execution_count": 1,
   "id": "signed-portsmouth",
   "metadata": {},
   "outputs": [],
   "source": [
    "%%capture\n",
    "!pip install git+https://github.com/friedrichknuth/driveanon.git\n",
    "    \n",
    "import driveanon"
   ]
  },
  {
   "cell_type": "code",
   "execution_count": 2,
   "id": "after-litigation",
   "metadata": {},
   "outputs": [
    {
     "data": {
      "text/plain": [
       "'MW-V7_clean.csv'"
      ]
     },
     "execution_count": 2,
     "metadata": {},
     "output_type": "execute_result"
    }
   ],
   "source": [
    "blob_id = '1YT9bNveID55Lo5j4upMGrA7vEl5FWXp_' #blob_id of the mesa west met file, .csv version\n",
    "#for blob_id in file_blob_ids:\n",
    "f = driveanon.save(blob_id)\n",
    "f"
   ]
  },
  {
   "cell_type": "code",
   "execution_count": null,
   "id": "brilliant-technical",
   "metadata": {},
   "outputs": [],
   "source": []
  }
 ],
 "metadata": {
  "kernelspec": {
   "display_name": "Python 3",
   "language": "python",
   "name": "python3"
  },
  "language_info": {
   "codemirror_mode": {
    "name": "ipython",
    "version": 3
   },
   "file_extension": ".py",
   "mimetype": "text/x-python",
   "name": "python",
   "nbconvert_exporter": "python",
   "pygments_lexer": "ipython3",
   "version": "3.8.8"
  }
 },
 "nbformat": 4,
 "nbformat_minor": 5
}
